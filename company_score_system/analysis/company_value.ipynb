{
 "cells": [
  {
   "cell_type": "code",
   "execution_count": 32,
   "metadata": {},
   "outputs": [],
   "source": [
    "import numpy as np # linear algebra\n",
    "import pandas as pd # data processing, CSV file I/O (e.g. pd.read_csv)\n",
    "from datetime import datetime\n",
    "from scipy.stats import skew  # for some statistics\n",
    "from scipy.special import boxcox1p\n",
    "from scipy.stats import boxcox_normmax\n",
    "from sklearn.linear_model import ElasticNetCV, LassoCV, RidgeCV\n",
    "from sklearn.ensemble import GradientBoostingRegressor\n",
    "from sklearn.svm import SVR\n",
    "from sklearn.pipeline import make_pipeline\n",
    "from sklearn.preprocessing import RobustScaler\n",
    "from sklearn.model_selection import KFold, cross_val_score\n",
    "from sklearn.metrics import mean_squared_error\n",
    "from mlxtend.regressor import StackingCVRegressor\n",
    "from xgboost import XGBRegressor\n",
    "from lightgbm import LGBMRegressor\n",
    "from sklearn.model_selection import GridSearchCV\n",
    "import matplotlib.pyplot as plt\n",
    "import scipy.stats as stats\n",
    "import sklearn.linear_model as linear_model\n",
    "import seaborn as sns\n",
    "from sklearn.manifold import TSNE\n",
    "from sklearn.cluster import KMeans\n",
    "from sklearn.decomposition import PCA\n",
    "from sklearn.preprocessing import StandardScaler\n",
    "from scipy.stats import norm\n",
    "import warnings\n",
    "warnings.filterwarnings('ignore')\n",
    "from def_functions import *"
   ]
  },
  {
   "cell_type": "code",
   "execution_count": 2,
   "metadata": {},
   "outputs": [
    {
     "name": "stdout",
     "output_type": "stream",
     "text": [
      "Data is loaded!\n"
     ]
    }
   ],
   "source": [
    "train_values= pd.read_csv('data/train_values0422.csv')\n",
    "test_values= pd.read_csv('data/test_values0422.csv')\n",
    "train_word= pd.read_csv('data/train_word_0422.csv')\n",
    "test_word= pd.read_csv('data/test_word_0422.csv')\n",
    "print (\"Data is loaded!\")"
   ]
  },
  {
   "cell_type": "code",
   "execution_count": 3,
   "metadata": {},
   "outputs": [
    {
     "data": {
      "text/html": [
       "<div>\n",
       "<style scoped>\n",
       "    .dataframe tbody tr th:only-of-type {\n",
       "        vertical-align: middle;\n",
       "    }\n",
       "\n",
       "    .dataframe tbody tr th {\n",
       "        vertical-align: top;\n",
       "    }\n",
       "\n",
       "    .dataframe thead th {\n",
       "        text-align: right;\n",
       "    }\n",
       "</style>\n",
       "<table border=\"1\" class=\"dataframe\">\n",
       "  <thead>\n",
       "    <tr style=\"text-align: right;\">\n",
       "      <th></th>\n",
       "      <th>Missing Values</th>\n",
       "      <th>percent of Total Values</th>\n",
       "    </tr>\n",
       "  </thead>\n",
       "  <tbody>\n",
       "  </tbody>\n",
       "</table>\n",
       "</div>"
      ],
      "text/plain": [
       "Empty DataFrame\n",
       "Columns: [Missing Values, percent of Total Values]\n",
       "Index: []"
      ]
     },
     "execution_count": 3,
     "metadata": {},
     "output_type": "execute_result"
    }
   ],
   "source": [
    "missing_data=missing_values_table(train_values)\n",
    "missing_data.head()"
   ]
  },
  {
   "cell_type": "code",
   "execution_count": 4,
   "metadata": {},
   "outputs": [
    {
     "data": {
      "text/html": [
       "<div>\n",
       "<style scoped>\n",
       "    .dataframe tbody tr th:only-of-type {\n",
       "        vertical-align: middle;\n",
       "    }\n",
       "\n",
       "    .dataframe tbody tr th {\n",
       "        vertical-align: top;\n",
       "    }\n",
       "\n",
       "    .dataframe thead th {\n",
       "        text-align: right;\n",
       "    }\n",
       "</style>\n",
       "<table border=\"1\" class=\"dataframe\">\n",
       "  <thead>\n",
       "    <tr style=\"text-align: right;\">\n",
       "      <th></th>\n",
       "      <th>Missing Values</th>\n",
       "      <th>percent of Total Values</th>\n",
       "    </tr>\n",
       "  </thead>\n",
       "  <tbody>\n",
       "    <tr>\n",
       "      <th>实际税率(%)</th>\n",
       "      <td>7</td>\n",
       "      <td>0.013462</td>\n",
       "    </tr>\n",
       "    <tr>\n",
       "      <th>抵押面积(公顷)</th>\n",
       "      <td>1</td>\n",
       "      <td>0.001923</td>\n",
       "    </tr>\n",
       "    <tr>\n",
       "      <th>土地面积</th>\n",
       "      <td>1</td>\n",
       "      <td>0.001923</td>\n",
       "    </tr>\n",
       "    <tr>\n",
       "      <th>评估金额(万元)</th>\n",
       "      <td>1</td>\n",
       "      <td>0.001923</td>\n",
       "    </tr>\n",
       "    <tr>\n",
       "      <th>抵押金额(万元)</th>\n",
       "      <td>1</td>\n",
       "      <td>0.001923</td>\n",
       "    </tr>\n",
       "  </tbody>\n",
       "</table>\n",
       "</div>"
      ],
      "text/plain": [
       "          Missing Values  percent of Total Values\n",
       "实际税率(%)                7                 0.013462\n",
       "抵押面积(公顷)               1                 0.001923\n",
       "土地面积                   1                 0.001923\n",
       "评估金额(万元)               1                 0.001923\n",
       "抵押金额(万元)               1                 0.001923"
      ]
     },
     "execution_count": 4,
     "metadata": {},
     "output_type": "execute_result"
    }
   ],
   "source": [
    "missing_data=missing_values_table(test_values)\n",
    "missing_data.head()"
   ]
  },
  {
   "cell_type": "code",
   "execution_count": 5,
   "metadata": {},
   "outputs": [
    {
     "data": {
      "text/plain": [
       "0"
      ]
     },
     "execution_count": 5,
     "metadata": {},
     "output_type": "execute_result"
    }
   ],
   "source": [
    "test_values['实际税率(%)']=test_values['实际税率(%)'].fillna(test_values['实际税率(%)'].mean())\n",
    "test_values=test_values.fillna(0)\n",
    "test_values.isnull().sum().max()"
   ]
  },
  {
   "cell_type": "code",
   "execution_count": 6,
   "metadata": {},
   "outputs": [
    {
     "data": {
      "text/html": [
       "<div>\n",
       "<style scoped>\n",
       "    .dataframe tbody tr th:only-of-type {\n",
       "        vertical-align: middle;\n",
       "    }\n",
       "\n",
       "    .dataframe tbody tr th {\n",
       "        vertical-align: top;\n",
       "    }\n",
       "\n",
       "    .dataframe thead th {\n",
       "        text-align: right;\n",
       "    }\n",
       "</style>\n",
       "<table border=\"1\" class=\"dataframe\">\n",
       "  <thead>\n",
       "    <tr style=\"text-align: right;\">\n",
       "      <th></th>\n",
       "      <th>Missing Values</th>\n",
       "      <th>percent of Total Values</th>\n",
       "    </tr>\n",
       "  </thead>\n",
       "  <tbody>\n",
       "    <tr>\n",
       "      <th>付息方式_到期一次还本付息</th>\n",
       "      <td>2317</td>\n",
       "      <td>0.772333</td>\n",
       "    </tr>\n",
       "    <tr>\n",
       "      <th>债券品种_中央企业债</th>\n",
       "      <td>2317</td>\n",
       "      <td>0.772333</td>\n",
       "    </tr>\n",
       "    <tr>\n",
       "      <th>债券品种_企业债券</th>\n",
       "      <td>2317</td>\n",
       "      <td>0.772333</td>\n",
       "    </tr>\n",
       "    <tr>\n",
       "      <th>债券品种_公司、企业债</th>\n",
       "      <td>2317</td>\n",
       "      <td>0.772333</td>\n",
       "    </tr>\n",
       "    <tr>\n",
       "      <th>债券品种_地方企业债</th>\n",
       "      <td>2317</td>\n",
       "      <td>0.772333</td>\n",
       "    </tr>\n",
       "    <tr>\n",
       "      <th>债券品种_沪企债</th>\n",
       "      <td>2317</td>\n",
       "      <td>0.772333</td>\n",
       "    </tr>\n",
       "    <tr>\n",
       "      <th>债券品种_深企债</th>\n",
       "      <td>2317</td>\n",
       "      <td>0.772333</td>\n",
       "    </tr>\n",
       "    <tr>\n",
       "      <th>债券品种_银行间企债</th>\n",
       "      <td>2317</td>\n",
       "      <td>0.772333</td>\n",
       "    </tr>\n",
       "    <tr>\n",
       "      <th>付息方式_按年付息</th>\n",
       "      <td>2317</td>\n",
       "      <td>0.772333</td>\n",
       "    </tr>\n",
       "    <tr>\n",
       "      <th>付息方式_附息式固定利率</th>\n",
       "      <td>2317</td>\n",
       "      <td>0.772333</td>\n",
       "    </tr>\n",
       "    <tr>\n",
       "      <th>土地用途_农村宅基地</th>\n",
       "      <td>1683</td>\n",
       "      <td>0.561000</td>\n",
       "    </tr>\n",
       "    <tr>\n",
       "      <th>土地用途_其他普通商品住房用地</th>\n",
       "      <td>1683</td>\n",
       "      <td>0.561000</td>\n",
       "    </tr>\n",
       "    <tr>\n",
       "      <th>土地用途_其它商服用地</th>\n",
       "      <td>1683</td>\n",
       "      <td>0.561000</td>\n",
       "    </tr>\n",
       "    <tr>\n",
       "      <th>土地用途_其它土地</th>\n",
       "      <td>1683</td>\n",
       "      <td>0.561000</td>\n",
       "    </tr>\n",
       "    <tr>\n",
       "      <th>土地用途_军事设施用地</th>\n",
       "      <td>1683</td>\n",
       "      <td>0.561000</td>\n",
       "    </tr>\n",
       "    <tr>\n",
       "      <th>土地用途_高档住宅用地</th>\n",
       "      <td>1683</td>\n",
       "      <td>0.561000</td>\n",
       "    </tr>\n",
       "    <tr>\n",
       "      <th>土地用途_医卫慈善用地</th>\n",
       "      <td>1683</td>\n",
       "      <td>0.561000</td>\n",
       "    </tr>\n",
       "    <tr>\n",
       "      <th>土地用途_商务金融用地</th>\n",
       "      <td>1683</td>\n",
       "      <td>0.561000</td>\n",
       "    </tr>\n",
       "    <tr>\n",
       "      <th>土地用途_其他商服用地</th>\n",
       "      <td>1683</td>\n",
       "      <td>0.561000</td>\n",
       "    </tr>\n",
       "    <tr>\n",
       "      <th>土地用途_商服用地</th>\n",
       "      <td>1683</td>\n",
       "      <td>0.561000</td>\n",
       "    </tr>\n",
       "  </tbody>\n",
       "</table>\n",
       "</div>"
      ],
      "text/plain": [
       "                 Missing Values  percent of Total Values\n",
       "付息方式_到期一次还本付息              2317                 0.772333\n",
       "债券品种_中央企业债                 2317                 0.772333\n",
       "债券品种_企业债券                  2317                 0.772333\n",
       "债券品种_公司、企业债                2317                 0.772333\n",
       "债券品种_地方企业债                 2317                 0.772333\n",
       "债券品种_沪企债                   2317                 0.772333\n",
       "债券品种_深企债                   2317                 0.772333\n",
       "债券品种_银行间企债                 2317                 0.772333\n",
       "付息方式_按年付息                  2317                 0.772333\n",
       "付息方式_附息式固定利率               2317                 0.772333\n",
       "土地用途_农村宅基地                 1683                 0.561000\n",
       "土地用途_其他普通商品住房用地            1683                 0.561000\n",
       "土地用途_其它商服用地                1683                 0.561000\n",
       "土地用途_其它土地                  1683                 0.561000\n",
       "土地用途_军事设施用地                1683                 0.561000\n",
       "土地用途_高档住宅用地                1683                 0.561000\n",
       "土地用途_医卫慈善用地                1683                 0.561000\n",
       "土地用途_商务金融用地                1683                 0.561000\n",
       "土地用途_其他商服用地                1683                 0.561000\n",
       "土地用途_商服用地                  1683                 0.561000"
      ]
     },
     "execution_count": 6,
     "metadata": {},
     "output_type": "execute_result"
    }
   ],
   "source": [
    "missing_data=missing_values_table(train_word)\n",
    "missing_data.head(20)"
   ]
  },
  {
   "cell_type": "code",
   "execution_count": 7,
   "metadata": {},
   "outputs": [
    {
     "data": {
      "text/plain": [
       "0"
      ]
     },
     "execution_count": 7,
     "metadata": {},
     "output_type": "execute_result"
    }
   ],
   "source": [
    "train_word=train_word.fillna(0)\n",
    "test_word=test_word.fillna(0)\n",
    "train_word.isnull().sum().max()"
   ]
  },
  {
   "cell_type": "code",
   "execution_count": 8,
   "metadata": {},
   "outputs": [
    {
     "data": {
      "text/plain": [
       "((2916, 50), (3000, 124))"
      ]
     },
     "execution_count": 8,
     "metadata": {},
     "output_type": "execute_result"
    }
   ],
   "source": [
    "train_values.shape,train_word.shape"
   ]
  },
  {
   "cell_type": "code",
   "execution_count": 9,
   "metadata": {},
   "outputs": [
    {
     "data": {
      "text/plain": [
       "((520, 49), (552, 124))"
      ]
     },
     "execution_count": 9,
     "metadata": {},
     "output_type": "execute_result"
    }
   ],
   "source": [
    "test_values.shape,test_word.shape"
   ]
  },
  {
   "cell_type": "code",
   "execution_count": 10,
   "metadata": {},
   "outputs": [],
   "source": [
    "train=pd.merge(train_values,train_word,on='企业编号',how='inner')"
   ]
  },
  {
   "cell_type": "code",
   "execution_count": 11,
   "metadata": {},
   "outputs": [],
   "source": [
    "test=pd.merge(test_values,test_word,on='企业编号',how='inner')"
   ]
  },
  {
   "cell_type": "code",
   "execution_count": 12,
   "metadata": {},
   "outputs": [
    {
     "data": {
      "text/html": [
       "<div>\n",
       "<style scoped>\n",
       "    .dataframe tbody tr th:only-of-type {\n",
       "        vertical-align: middle;\n",
       "    }\n",
       "\n",
       "    .dataframe tbody tr th {\n",
       "        vertical-align: top;\n",
       "    }\n",
       "\n",
       "    .dataframe thead th {\n",
       "        text-align: right;\n",
       "    }\n",
       "</style>\n",
       "<table border=\"1\" class=\"dataframe\">\n",
       "  <thead>\n",
       "    <tr style=\"text-align: right;\">\n",
       "      <th></th>\n",
       "      <th>企业编号</th>\n",
       "      <th>营业总收入(元)</th>\n",
       "      <th>存货周转天数(天)</th>\n",
       "      <th>总资产周转率(次)</th>\n",
       "      <th>应收账款周转天数(天)</th>\n",
       "      <th>流动比率</th>\n",
       "      <th>速动比率</th>\n",
       "      <th>资产负债率(%)</th>\n",
       "      <th>基本每股收益(元)</th>\n",
       "      <th>扣非每股收益(元)</th>\n",
       "      <th>...</th>\n",
       "      <th>土地用途_科教用地</th>\n",
       "      <th>土地用途_空闲地</th>\n",
       "      <th>土地用途_管道运输用地</th>\n",
       "      <th>土地用途_经济适用住房用地</th>\n",
       "      <th>土地用途_街巷用地</th>\n",
       "      <th>土地用途_设施农用地</th>\n",
       "      <th>土地用途_采矿用地</th>\n",
       "      <th>土地用途_铁路用地</th>\n",
       "      <th>土地用途_风景名胜设施用地</th>\n",
       "      <th>土地用途_高档住宅用地</th>\n",
       "    </tr>\n",
       "  </thead>\n",
       "  <tbody>\n",
       "    <tr>\n",
       "      <th>0</th>\n",
       "      <td>1001</td>\n",
       "      <td>9.160835</td>\n",
       "      <td>50207.6489</td>\n",
       "      <td>0.16</td>\n",
       "      <td>-0.983074</td>\n",
       "      <td>7.206956</td>\n",
       "      <td>1.356152</td>\n",
       "      <td>0.407891</td>\n",
       "      <td>12.0170</td>\n",
       "      <td>12.0170</td>\n",
       "      <td>...</td>\n",
       "      <td>1.0</td>\n",
       "      <td>1.0</td>\n",
       "      <td>0.0</td>\n",
       "      <td>1.0</td>\n",
       "      <td>0.0</td>\n",
       "      <td>0.0</td>\n",
       "      <td>1.0</td>\n",
       "      <td>0.0</td>\n",
       "      <td>0.0</td>\n",
       "      <td>1.0</td>\n",
       "    </tr>\n",
       "    <tr>\n",
       "      <th>1</th>\n",
       "      <td>1002</td>\n",
       "      <td>5.950903</td>\n",
       "      <td>58.5600</td>\n",
       "      <td>2.03</td>\n",
       "      <td>0.600578</td>\n",
       "      <td>6.570000</td>\n",
       "      <td>1.613759</td>\n",
       "      <td>6.271521</td>\n",
       "      <td>5.4100</td>\n",
       "      <td>5.1200</td>\n",
       "      <td>...</td>\n",
       "      <td>0.0</td>\n",
       "      <td>0.0</td>\n",
       "      <td>0.0</td>\n",
       "      <td>0.0</td>\n",
       "      <td>0.0</td>\n",
       "      <td>0.0</td>\n",
       "      <td>0.0</td>\n",
       "      <td>0.0</td>\n",
       "      <td>0.0</td>\n",
       "      <td>0.0</td>\n",
       "    </tr>\n",
       "    <tr>\n",
       "      <th>2</th>\n",
       "      <td>1003</td>\n",
       "      <td>6.771706</td>\n",
       "      <td>494.2700</td>\n",
       "      <td>4.38</td>\n",
       "      <td>0.927193</td>\n",
       "      <td>11.040000</td>\n",
       "      <td>-0.032697</td>\n",
       "      <td>4.168928</td>\n",
       "      <td>0.9009</td>\n",
       "      <td>0.9009</td>\n",
       "      <td>...</td>\n",
       "      <td>0.0</td>\n",
       "      <td>0.0</td>\n",
       "      <td>0.0</td>\n",
       "      <td>0.0</td>\n",
       "      <td>0.0</td>\n",
       "      <td>0.0</td>\n",
       "      <td>0.0</td>\n",
       "      <td>0.0</td>\n",
       "      <td>0.0</td>\n",
       "      <td>0.0</td>\n",
       "    </tr>\n",
       "    <tr>\n",
       "      <th>3</th>\n",
       "      <td>1004</td>\n",
       "      <td>5.033701</td>\n",
       "      <td>62.5900</td>\n",
       "      <td>1.36</td>\n",
       "      <td>0.152138</td>\n",
       "      <td>4.040000</td>\n",
       "      <td>-0.632775</td>\n",
       "      <td>2.230774</td>\n",
       "      <td>3.9600</td>\n",
       "      <td>3.9600</td>\n",
       "      <td>...</td>\n",
       "      <td>0.0</td>\n",
       "      <td>0.0</td>\n",
       "      <td>0.0</td>\n",
       "      <td>0.0</td>\n",
       "      <td>0.0</td>\n",
       "      <td>0.0</td>\n",
       "      <td>0.0</td>\n",
       "      <td>0.0</td>\n",
       "      <td>0.0</td>\n",
       "      <td>0.0</td>\n",
       "    </tr>\n",
       "    <tr>\n",
       "      <th>4</th>\n",
       "      <td>1005</td>\n",
       "      <td>6.184149</td>\n",
       "      <td>977.2600</td>\n",
       "      <td>1.07</td>\n",
       "      <td>-0.029311</td>\n",
       "      <td>7.960000</td>\n",
       "      <td>0.641031</td>\n",
       "      <td>1.426780</td>\n",
       "      <td>0.6490</td>\n",
       "      <td>0.6490</td>\n",
       "      <td>...</td>\n",
       "      <td>0.0</td>\n",
       "      <td>0.0</td>\n",
       "      <td>0.0</td>\n",
       "      <td>0.0</td>\n",
       "      <td>0.0</td>\n",
       "      <td>0.0</td>\n",
       "      <td>0.0</td>\n",
       "      <td>0.0</td>\n",
       "      <td>0.0</td>\n",
       "      <td>0.0</td>\n",
       "    </tr>\n",
       "  </tbody>\n",
       "</table>\n",
       "<p>5 rows × 173 columns</p>\n",
       "</div>"
      ],
      "text/plain": [
       "   企业编号  营业总收入(元)   存货周转天数(天)  总资产周转率(次)  应收账款周转天数(天)       流动比率      速动比率  \\\n",
       "0  1001  9.160835  50207.6489       0.16    -0.983074   7.206956  1.356152   \n",
       "1  1002  5.950903     58.5600       2.03     0.600578   6.570000  1.613759   \n",
       "2  1003  6.771706    494.2700       4.38     0.927193  11.040000 -0.032697   \n",
       "3  1004  5.033701     62.5900       1.36     0.152138   4.040000 -0.632775   \n",
       "4  1005  6.184149    977.2600       1.07    -0.029311   7.960000  0.641031   \n",
       "\n",
       "   资产负债率(%)  基本每股收益(元)  扣非每股收益(元)  ...  土地用途_科教用地  土地用途_空闲地  土地用途_管道运输用地  \\\n",
       "0  0.407891    12.0170    12.0170  ...        1.0       1.0          0.0   \n",
       "1  6.271521     5.4100     5.1200  ...        0.0       0.0          0.0   \n",
       "2  4.168928     0.9009     0.9009  ...        0.0       0.0          0.0   \n",
       "3  2.230774     3.9600     3.9600  ...        0.0       0.0          0.0   \n",
       "4  1.426780     0.6490     0.6490  ...        0.0       0.0          0.0   \n",
       "\n",
       "   土地用途_经济适用住房用地  土地用途_街巷用地  土地用途_设施农用地  土地用途_采矿用地  土地用途_铁路用地  土地用途_风景名胜设施用地  \\\n",
       "0            1.0        0.0         0.0        1.0        0.0            0.0   \n",
       "1            0.0        0.0         0.0        0.0        0.0            0.0   \n",
       "2            0.0        0.0         0.0        0.0        0.0            0.0   \n",
       "3            0.0        0.0         0.0        0.0        0.0            0.0   \n",
       "4            0.0        0.0         0.0        0.0        0.0            0.0   \n",
       "\n",
       "   土地用途_高档住宅用地  \n",
       "0          1.0  \n",
       "1          0.0  \n",
       "2          0.0  \n",
       "3          0.0  \n",
       "4          0.0  \n",
       "\n",
       "[5 rows x 173 columns]"
      ]
     },
     "execution_count": 12,
     "metadata": {},
     "output_type": "execute_result"
    }
   ],
   "source": [
    "train.head()"
   ]
  },
  {
   "cell_type": "code",
   "execution_count": 13,
   "metadata": {},
   "outputs": [
    {
     "data": {
      "text/html": [
       "<div>\n",
       "<style scoped>\n",
       "    .dataframe tbody tr th:only-of-type {\n",
       "        vertical-align: middle;\n",
       "    }\n",
       "\n",
       "    .dataframe tbody tr th {\n",
       "        vertical-align: top;\n",
       "    }\n",
       "\n",
       "    .dataframe thead th {\n",
       "        text-align: right;\n",
       "    }\n",
       "</style>\n",
       "<table border=\"1\" class=\"dataframe\">\n",
       "  <thead>\n",
       "    <tr style=\"text-align: right;\">\n",
       "      <th></th>\n",
       "      <th>企业编号</th>\n",
       "      <th>营业总收入(元)</th>\n",
       "      <th>存货周转天数(天)</th>\n",
       "      <th>总资产周转率(次)</th>\n",
       "      <th>应收账款周转天数(天)</th>\n",
       "      <th>流动比率</th>\n",
       "      <th>速动比率</th>\n",
       "      <th>资产负债率(%)</th>\n",
       "      <th>基本每股收益(元)</th>\n",
       "      <th>扣非每股收益(元)</th>\n",
       "      <th>...</th>\n",
       "      <th>土地用途_科教用地</th>\n",
       "      <th>土地用途_空闲地</th>\n",
       "      <th>土地用途_管道运输用地</th>\n",
       "      <th>土地用途_经济适用住房用地</th>\n",
       "      <th>土地用途_街巷用地</th>\n",
       "      <th>土地用途_设施农用地</th>\n",
       "      <th>土地用途_采矿用地</th>\n",
       "      <th>土地用途_铁路用地</th>\n",
       "      <th>土地用途_风景名胜设施用地</th>\n",
       "      <th>土地用途_高档住宅用地</th>\n",
       "    </tr>\n",
       "  </thead>\n",
       "  <tbody>\n",
       "    <tr>\n",
       "      <th>0</th>\n",
       "      <td>4001</td>\n",
       "      <td>137.5900</td>\n",
       "      <td>7679.28</td>\n",
       "      <td>1.95</td>\n",
       "      <td>-0.019027</td>\n",
       "      <td>16.87</td>\n",
       "      <td>-0.239087</td>\n",
       "      <td>5.555230</td>\n",
       "      <td>2.2644</td>\n",
       "      <td>2.2641</td>\n",
       "      <td>...</td>\n",
       "      <td>0.0</td>\n",
       "      <td>0.0</td>\n",
       "      <td>0.0</td>\n",
       "      <td>0.0</td>\n",
       "      <td>0.0</td>\n",
       "      <td>0.0</td>\n",
       "      <td>0.0</td>\n",
       "      <td>0.0</td>\n",
       "      <td>0.0</td>\n",
       "      <td>0.0</td>\n",
       "    </tr>\n",
       "    <tr>\n",
       "      <th>1</th>\n",
       "      <td>4002</td>\n",
       "      <td>54.3200</td>\n",
       "      <td>902.13</td>\n",
       "      <td>2.33</td>\n",
       "      <td>-0.816679</td>\n",
       "      <td>19.97</td>\n",
       "      <td>-1.609176</td>\n",
       "      <td>6.324575</td>\n",
       "      <td>1.2674</td>\n",
       "      <td>1.2674</td>\n",
       "      <td>...</td>\n",
       "      <td>0.0</td>\n",
       "      <td>0.0</td>\n",
       "      <td>0.0</td>\n",
       "      <td>0.0</td>\n",
       "      <td>0.0</td>\n",
       "      <td>0.0</td>\n",
       "      <td>0.0</td>\n",
       "      <td>0.0</td>\n",
       "      <td>0.0</td>\n",
       "      <td>0.0</td>\n",
       "    </tr>\n",
       "    <tr>\n",
       "      <th>2</th>\n",
       "      <td>4003</td>\n",
       "      <td>222.5500</td>\n",
       "      <td>821.63</td>\n",
       "      <td>10.77</td>\n",
       "      <td>1.966261</td>\n",
       "      <td>79.42</td>\n",
       "      <td>0.131951</td>\n",
       "      <td>18.369966</td>\n",
       "      <td>3.5768</td>\n",
       "      <td>3.5766</td>\n",
       "      <td>...</td>\n",
       "      <td>0.0</td>\n",
       "      <td>0.0</td>\n",
       "      <td>0.0</td>\n",
       "      <td>0.0</td>\n",
       "      <td>0.0</td>\n",
       "      <td>0.0</td>\n",
       "      <td>0.0</td>\n",
       "      <td>0.0</td>\n",
       "      <td>0.0</td>\n",
       "      <td>0.0</td>\n",
       "    </tr>\n",
       "    <tr>\n",
       "      <th>3</th>\n",
       "      <td>4004</td>\n",
       "      <td>34.6800</td>\n",
       "      <td>15.22</td>\n",
       "      <td>0.92</td>\n",
       "      <td>0.013127</td>\n",
       "      <td>5.18</td>\n",
       "      <td>0.410022</td>\n",
       "      <td>1.950492</td>\n",
       "      <td>0.7429</td>\n",
       "      <td>0.7429</td>\n",
       "      <td>...</td>\n",
       "      <td>0.0</td>\n",
       "      <td>0.0</td>\n",
       "      <td>0.0</td>\n",
       "      <td>0.0</td>\n",
       "      <td>0.0</td>\n",
       "      <td>0.0</td>\n",
       "      <td>0.0</td>\n",
       "      <td>0.0</td>\n",
       "      <td>0.0</td>\n",
       "      <td>0.0</td>\n",
       "    </tr>\n",
       "    <tr>\n",
       "      <th>4</th>\n",
       "      <td>4005</td>\n",
       "      <td>23.8095</td>\n",
       "      <td>5552.28</td>\n",
       "      <td>0.64</td>\n",
       "      <td>-0.866701</td>\n",
       "      <td>11.32</td>\n",
       "      <td>0.268972</td>\n",
       "      <td>9.955448</td>\n",
       "      <td>-2.1900</td>\n",
       "      <td>-2.1900</td>\n",
       "      <td>...</td>\n",
       "      <td>0.0</td>\n",
       "      <td>0.0</td>\n",
       "      <td>0.0</td>\n",
       "      <td>0.0</td>\n",
       "      <td>0.0</td>\n",
       "      <td>0.0</td>\n",
       "      <td>0.0</td>\n",
       "      <td>0.0</td>\n",
       "      <td>0.0</td>\n",
       "      <td>0.0</td>\n",
       "    </tr>\n",
       "  </tbody>\n",
       "</table>\n",
       "<p>5 rows × 172 columns</p>\n",
       "</div>"
      ],
      "text/plain": [
       "   企业编号  营业总收入(元)  存货周转天数(天)  总资产周转率(次)  应收账款周转天数(天)   流动比率      速动比率  \\\n",
       "0  4001  137.5900    7679.28       1.95    -0.019027  16.87 -0.239087   \n",
       "1  4002   54.3200     902.13       2.33    -0.816679  19.97 -1.609176   \n",
       "2  4003  222.5500     821.63      10.77     1.966261  79.42  0.131951   \n",
       "3  4004   34.6800      15.22       0.92     0.013127   5.18  0.410022   \n",
       "4  4005   23.8095    5552.28       0.64    -0.866701  11.32  0.268972   \n",
       "\n",
       "    资产负债率(%)  基本每股收益(元)  扣非每股收益(元)  ...  土地用途_科教用地  土地用途_空闲地  土地用途_管道运输用地  \\\n",
       "0   5.555230     2.2644     2.2641  ...        0.0       0.0          0.0   \n",
       "1   6.324575     1.2674     1.2674  ...        0.0       0.0          0.0   \n",
       "2  18.369966     3.5768     3.5766  ...        0.0       0.0          0.0   \n",
       "3   1.950492     0.7429     0.7429  ...        0.0       0.0          0.0   \n",
       "4   9.955448    -2.1900    -2.1900  ...        0.0       0.0          0.0   \n",
       "\n",
       "   土地用途_经济适用住房用地  土地用途_街巷用地  土地用途_设施农用地  土地用途_采矿用地  土地用途_铁路用地  土地用途_风景名胜设施用地  \\\n",
       "0            0.0        0.0         0.0        0.0        0.0            0.0   \n",
       "1            0.0        0.0         0.0        0.0        0.0            0.0   \n",
       "2            0.0        0.0         0.0        0.0        0.0            0.0   \n",
       "3            0.0        0.0         0.0        0.0        0.0            0.0   \n",
       "4            0.0        0.0         0.0        0.0        0.0            0.0   \n",
       "\n",
       "   土地用途_高档住宅用地  \n",
       "0          0.0  \n",
       "1          0.0  \n",
       "2          0.0  \n",
       "3          0.0  \n",
       "4          0.0  \n",
       "\n",
       "[5 rows x 172 columns]"
      ]
     },
     "execution_count": 13,
     "metadata": {},
     "output_type": "execute_result"
    }
   ],
   "source": [
    "test.head()"
   ]
  },
  {
   "cell_type": "code",
   "execution_count": 14,
   "metadata": {},
   "outputs": [
    {
     "name": "stdout",
     "output_type": "stream",
     "text": [
      "Train:  2916 company, and  173 features\n",
      "Test:  520 company, and  172 features\n"
     ]
    }
   ],
   "source": [
    "print (\"Train: \",train.shape[0],\"company, and \",train.shape[1],\"features\")\n",
    "print (\"Test: \",test.shape[0],\"company, and \",test.shape[1],\"features\")"
   ]
  },
  {
   "cell_type": "code",
   "execution_count": 15,
   "metadata": {},
   "outputs": [
    {
     "data": {
      "image/png": "[encoded data removed]",
      "text/plain": [
       "<Figure size 1728x1296 with 2 Axes>"
      ]
     },
     "metadata": {
      "needs_background": "light"
     },
     "output_type": "display_data"
    }
   ],
   "source": [
    "#correlation matrix\n",
    "corrmat = train.corr()\n",
    "f, ax = plt.subplots(figsize=(24, 18))\n",
    "sns.heatmap(corrmat, square=True);"
   ]
  },
  {
   "cell_type": "code",
   "execution_count": 16,
   "metadata": {},
   "outputs": [
    {
     "data": {
      "text/plain": [
       "<matplotlib.axes._subplots.AxesSubplot at 0x1883028a828>"
      ]
     },
     "execution_count": 16,
     "metadata": {},
     "output_type": "execute_result"
    },
    {
     "data": {
      "image/png": "[encoded data removed]",
      "text/plain": [
       "<Figure size 864x648 with 2 Axes>"
      ]
     },
     "metadata": {
      "needs_background": "light"
     },
     "output_type": "display_data"
    }
   ],
   "source": [
    "#saleprice correlation matrix\n",
    "k = 10 #number of variables for heatmap\n",
    "cols = corrmat.nlargest(k, '企业总评分')['企业总评分'].index\n",
    "cm = np.corrcoef(train[cols].values.T)\n",
    "f, ax = plt.subplots(figsize=(12, 9))\n",
    "sns.heatmap(cm, cbar=True, annot=True, square=True, fmt='.2f', annot_kws={'size': 10}, yticklabels=cols.values, xticklabels=cols.values)"
   ]
  },
  {
   "cell_type": "code",
   "execution_count": 17,
   "metadata": {},
   "outputs": [],
   "source": [
    "quantitative = [f for f in train.columns if train.dtypes[f] != 'object']\n",
    "quantitative.remove('企业总评分')\n",
    "quantitative.remove('企业编号')\n",
    "qualitative = [f for f in train.columns if train.dtypes[f] == 'object']"
   ]
  },
  {
   "cell_type": "code",
   "execution_count": 18,
   "metadata": {},
   "outputs": [
    {
     "data": {
      "text/plain": [
       "['行业大类（代码）',\n",
       " '类型',\n",
       " '经营状态',\n",
       " '是否购地',\n",
       " '是否有作品',\n",
       " '是否有债券',\n",
       " '是否有商标',\n",
       " '是否有招投标',\n",
       " '是否认缴',\n",
       " '是否有专利',\n",
       " '是否有资质',\n",
       " '是否有版权']"
      ]
     },
     "execution_count": 18,
     "metadata": {},
     "output_type": "execute_result"
    }
   ],
   "source": [
    "qualitative"
   ]
  },
  {
   "cell_type": "code",
   "execution_count": 19,
   "metadata": {},
   "outputs": [
    {
     "data": {
      "image/png": "[encoded data removed]",
      "text/plain": [
       "<Figure size 576x432 with 1 Axes>"
      ]
     },
     "metadata": {
      "needs_background": "light"
     },
     "output_type": "display_data"
    },
    {
     "data": {
      "image/png": "[encoded data removed]",
      "text/plain": [
       "<Figure size 576x432 with 1 Axes>"
      ]
     },
     "metadata": {
      "needs_background": "light"
     },
     "output_type": "display_data"
    },
    {
     "data": {
      "image/png": "[encoded data removed]",
      "text/plain": [
       "<Figure size 576x432 with 1 Axes>"
      ]
     },
     "metadata": {
      "needs_background": "light"
     },
     "output_type": "display_data"
    },
    {
     "data": {
      "image/png": "[encoded data removed]",
      "text/plain": [
       "<Figure size 576x432 with 1 Axes>"
      ]
     },
     "metadata": {
      "needs_background": "light"
     },
     "output_type": "display_data"
    },
    {
     "data": {
      "image/png": "[encoded data removed]",
      "text/plain": [
       "<Figure size 576x432 with 1 Axes>"
      ]
     },
     "metadata": {
      "needs_background": "light"
     },
     "output_type": "display_data"
    },
    {
     "data": {
      "image/png": "[encoded data removed]",
      "text/plain": [
       "<Figure size 576x432 with 1 Axes>"
      ]
     },
     "metadata": {
      "needs_background": "light"
     },
     "output_type": "display_data"
    },
    {
     "data": {
      "image/png": "[encoded data removed]",
      "text/plain": [
       "<Figure size 576x432 with 1 Axes>"
      ]
     },
     "metadata": {
      "needs_background": "light"
     },
     "output_type": "display_data"
    },
    {
     "data": {
      "image/png": "[encoded data removed]",
      "text/plain": [
       "<Figure size 576x432 with 1 Axes>"
      ]
     },
     "metadata": {
      "needs_background": "light"
     },
     "output_type": "display_data"
    },
    {
     "data": {
      "image/png": "[encoded data removed]",
      "text/plain": [
       "<Figure size 576x432 with 1 Axes>"
      ]
     },
     "metadata": {
      "needs_background": "light"
     },
     "output_type": "display_data"
    },
    {
     "data": {
      "image/png": "[encoded data removed]",
      "text/plain": [
       "<Figure size 576x432 with 1 Axes>"
      ]
     },
     "metadata": {
      "needs_background": "light"
     },
     "output_type": "display_data"
    },
    {
     "data": {
      "image/png": "[encoded data removed]",
      "text/plain": [
       "<Figure size 576x432 with 1 Axes>"
      ]
     },
     "metadata": {
      "needs_background": "light"
     },
     "output_type": "display_data"
    },
    {
     "data": {
      "image/png": "[encoded data removed]",
      "text/plain": [
       "<Figure size 576x432 with 1 Axes>"
      ]
     },
     "metadata": {
      "needs_background": "light"
     },
     "output_type": "display_data"
    }
   ],
   "source": [
    "for var in qualitative:\n",
    "    data = pd.concat([train['企业总评分'], train[var]], axis=1)\n",
    "    f, ax = plt.subplots(figsize=(8, 6))\n",
    "    fig = sns.boxplot(x=var, y=\"企业总评分\", data=data)\n",
    "    fig.axis(ymin=60, ymax=100);"
   ]
  },
  {
   "cell_type": "code",
   "execution_count": 20,
   "metadata": {},
   "outputs": [],
   "source": [
    "train.drop(['企业编号'], axis=1, inplace=True)\n",
    "test.drop(['企业编号'], axis=1, inplace=True)\n",
    "train.reset_index(drop=True, inplace=True)\n",
    "test.reset_index(drop=True, inplace=True)\n",
    "y = train['企业总评分'].reset_index(drop=True)"
   ]
  },
  {
   "cell_type": "code",
   "execution_count": 21,
   "metadata": {},
   "outputs": [],
   "source": [
    "train_features = train.drop(['企业总评分'], axis=1)\n",
    "test_features = test\n",
    "features = pd.concat([train_features, test_features]).reset_index(drop=True)"
   ]
  },
  {
   "cell_type": "code",
   "execution_count": 22,
   "metadata": {},
   "outputs": [
    {
     "data": {
      "text/plain": [
       "(3436, 204)"
      ]
     },
     "execution_count": 22,
     "metadata": {},
     "output_type": "execute_result"
    }
   ],
   "source": [
    "final_features = pd.get_dummies(features).reset_index(drop=True)\n",
    "final_features.shape"
   ]
  },
  {
   "cell_type": "code",
   "execution_count": 23,
   "metadata": {},
   "outputs": [
    {
     "data": {
      "text/plain": [
       "((2916, 204), (2916,), (520, 204))"
      ]
     },
     "execution_count": 23,
     "metadata": {},
     "output_type": "execute_result"
    }
   ],
   "source": [
    "X = final_features.iloc[:len(y), :]\n",
    "X_sub = final_features.iloc[len(y):, :]\n",
    "X.shape, y.shape, X_sub.shape"
   ]
  },
  {
   "cell_type": "code",
   "execution_count": 24,
   "metadata": {},
   "outputs": [],
   "source": [
    "kfolds = KFold(n_splits=10, shuffle=True, random_state=42)\n",
    "\n",
    "def rmsle(y, y_pred):\n",
    "    return np.sqrt(mean_squared_error(y, y_pred))\n",
    "\n",
    "def cv_rmse(model, X=X):\n",
    "    rmse = np.sqrt(-cross_val_score(model, X, y, scoring=\"neg_mean_squared_error\", cv=kfolds))\n",
    "    return (rmse)"
   ]
  },
  {
   "cell_type": "code",
   "execution_count": 25,
   "metadata": {},
   "outputs": [],
   "source": [
    "alphas_alt = [14.5, 14.6, 14.7, 14.8, 14.9, 15, 15.1, 15.2, 15.3, 15.4, 15.5]\n",
    "alphas2 = [5e-05, 0.0001, 0.0002, 0.0003, 0.0004, 0.0005, 0.0006, 0.0007, 0.0008]\n",
    "e_alphas = [0.0001, 0.0002, 0.0003, 0.0004, 0.0005, 0.0006, 0.0007]\n",
    "e_l1ratio = [0.8, 0.85, 0.9, 0.95, 0.99, 1]"
   ]
  },
  {
   "cell_type": "code",
   "execution_count": 26,
   "metadata": {},
   "outputs": [],
   "source": [
    "ridge = make_pipeline(RobustScaler(), RidgeCV(alphas=alphas_alt, cv=kfolds))\n",
    "lasso = make_pipeline(RobustScaler(), LassoCV(max_iter=1e7, alphas=alphas2, random_state=42, cv=kfolds))\n",
    "elasticnet = make_pipeline(RobustScaler(), ElasticNetCV(max_iter=1e7, alphas=e_alphas, cv=kfolds, l1_ratio=e_l1ratio))                                \n",
    "svr = make_pipeline(RobustScaler(), SVR(C= 20, epsilon= 0.008, gamma=0.0003,))\n",
    "gbr = GradientBoostingRegressor(n_estimators=3000, learning_rate=0.05, max_depth=4, max_features='sqrt', min_samples_leaf=15, min_samples_split=10, loss='huber', random_state =42)       "
   ]
  },
  {
   "cell_type": "code",
   "execution_count": 27,
   "metadata": {},
   "outputs": [],
   "source": [
    "lightgbm = LGBMRegressor(objective='regression', \n",
    "                                       num_leaves=31,\n",
    "                                       learning_rate=0.01, \n",
    "                                       n_estimators=5000,\n",
    "                                       max_bin=200, \n",
    "                                       bagging_fraction=0.75,\n",
    "                                       bagging_freq=5, \n",
    "                                       bagging_seed=7,\n",
    "                                       max_depth=6,\n",
    "                                       feature_fraction=0.8,\n",
    "                                       feature_fraction_seed=7,\n",
    "                                       verbose=-1, \n",
    "                                       )"
   ]
  },
  {
   "cell_type": "code",
   "execution_count": 28,
   "metadata": {},
   "outputs": [],
   "source": [
    "xgboost = XGBRegressor(learning_rate=0.01,n_estimators=1000,\n",
    "                                     max_depth=5, min_child_weight=0,\n",
    "                                     gamma=0, subsample=0.7,\n",
    "                                     colsample_bytree=0.7,\n",
    "                                     objective='reg:linear', nthread=-1,\n",
    "                                     scale_pos_weight=1, seed=27,\n",
    "                                     reg_alpha=0.00006)"
   ]
  },
  {
   "cell_type": "code",
   "execution_count": 29,
   "metadata": {},
   "outputs": [],
   "source": [
    "stack_gen = StackingCVRegressor(regressors=(xgboost, lightgbm),\n",
    "                                meta_regressor=lightgbm,\n",
    "                                use_features_in_secondary=True)"
   ]
  },
  {
   "cell_type": "code",
   "execution_count": 30,
   "metadata": {},
   "outputs": [
    {
     "name": "stdout",
     "output_type": "stream",
     "text": [
      "xgboost: 3.0227 (0.2219)\n",
      " 2019-04-22 14:28:49.513079\n"
     ]
    }
   ],
   "source": [
    "score = cv_rmse(xgboost)\n",
    "print(\"xgboost: {:.4f} ({:.4f})\\n\".format(score.mean(), score.std()), datetime.now(), )"
   ]
  },
  {
   "cell_type": "code",
   "execution_count": 400,
   "metadata": {},
   "outputs": [
    {
     "name": "stdout",
     "output_type": "stream",
     "text": [
      "stack_gen: 3.0963 (0.2178)\n",
      " 2019-04-22 12:26:04.342085\n"
     ]
    }
   ],
   "source": [
    "score = np.sqrt(-cross_val_score(stack_gen, np.array(X), np.array(y), scoring=\"neg_mean_squared_error\", cv=kfolds))\n",
    "print(\"stack_gen: {:.4f} ({:.4f})\\n\".format(score.mean(), score.std()), datetime.now(), )"
   ]
  },
  {
   "cell_type": "code",
   "execution_count": 159,
   "metadata": {},
   "outputs": [
    {
     "name": "stdout",
     "output_type": "stream",
     "text": [
      "LASSO: 3.6745 (0.2062)\n",
      " 2019-04-21 12:11:27.283121\n"
     ]
    }
   ],
   "source": [
    "score = cv_rmse(ridge)\n",
    "score = cv_rmse(lasso)\n",
    "print(\"LASSO: {:.4f} ({:.4f})\\n\".format(score.mean(), score.std()), datetime.now(), )"
   ]
  },
  {
   "cell_type": "code",
   "execution_count": 75,
   "metadata": {},
   "outputs": [
    {
     "name": "stdout",
     "output_type": "stream",
     "text": [
      "elastic net: 4.4622 (1.3994)\n",
      " 2019-04-19 13:29:16.981423\n"
     ]
    }
   ],
   "source": [
    "score = cv_rmse(elasticnet)\n",
    "print(\"elastic net: {:.4f} ({:.4f})\\n\".format(score.mean(), score.std()), datetime.now(), )"
   ]
  },
  {
   "cell_type": "code",
   "execution_count": 257,
   "metadata": {},
   "outputs": [
    {
     "name": "stdout",
     "output_type": "stream",
     "text": [
      "SVR: 3.6099 (0.1345)\n",
      " 2019-04-21 20:46:00.535659\n"
     ]
    }
   ],
   "source": [
    "score = cv_rmse(svr)\n",
    "print(\"SVR: {:.4f} ({:.4f})\\n\".format(score.mean(), score.std()), datetime.now(), )"
   ]
  },
  {
   "cell_type": "code",
   "execution_count": 396,
   "metadata": {},
   "outputs": [
    {
     "name": "stdout",
     "output_type": "stream",
     "text": [
      "gbr: 3.1200 (0.2182)\n",
      " 2019-04-22 11:40:38.681881\n"
     ]
    }
   ],
   "source": [
    "score = cv_rmse(gbr)\n",
    "print(\"gbr: {:.4f} ({:.4f})\\n\".format(score.mean(), score.std()), datetime.now(), )"
   ]
  },
  {
   "cell_type": "code",
   "execution_count": 370,
   "metadata": {},
   "outputs": [
    {
     "name": "stdout",
     "output_type": "stream",
     "text": [
      "lightgbm: 3.0897 (0.2022)\n",
      " 2019-04-22 09:43:55.055047\n"
     ]
    }
   ],
   "source": [
    "score = cv_rmse(lightgbm)\n",
    "print(\"lightgbm: {:.4f} ({:.4f})\\n\".format(score.mean(), score.std()), datetime.now(), )"
   ]
  },
  {
   "cell_type": "code",
   "execution_count": 378,
   "metadata": {},
   "outputs": [],
   "source": [
    "y_pred1=xgb_model_full_data.predict(X)\n",
    "y_pred2=lgb_model_full_data.predict(X)"
   ]
  },
  {
   "cell_type": "code",
   "execution_count": 379,
   "metadata": {},
   "outputs": [
    {
     "name": "stdout",
     "output_type": "stream",
     "text": [
      "1.9866033544343138\n"
     ]
    }
   ],
   "source": [
    "print(rmsle(y, y_pred1))"
   ]
  },
  {
   "cell_type": "code",
   "execution_count": 380,
   "metadata": {},
   "outputs": [
    {
     "name": "stdout",
     "output_type": "stream",
     "text": [
      "0.4409855277133932\n"
     ]
    }
   ],
   "source": [
    "print(rmsle(y, y_pred2))"
   ]
  },
  {
   "cell_type": "code",
   "execution_count": 297,
   "metadata": {},
   "outputs": [
    {
     "name": "stdout",
     "output_type": "stream",
     "text": [
      "Fitting 5 folds for each of 1 candidates, totalling 5 fits\n"
     ]
    },
    {
     "name": "stderr",
     "output_type": "stream",
     "text": [
      "[Parallel(n_jobs=4)]: Using backend LokyBackend with 4 concurrent workers.\n",
      "[Parallel(n_jobs=4)]: Done   5 out of   5 | elapsed:    8.8s finished\n"
     ]
    },
    {
     "data": {
      "text/plain": [
       "({'mean_fit_time': array([2.93694649]),\n",
       "  'std_fit_time': array([0.61973484]),\n",
       "  'mean_score_time': array([0.1867939]),\n",
       "  'std_score_time': array([0.05207048]),\n",
       "  'param_max_depth': masked_array(data=[3],\n",
       "               mask=[False],\n",
       "         fill_value='?',\n",
       "              dtype=object),\n",
       "  'param_num_leaves': masked_array(data=[30],\n",
       "               mask=[False],\n",
       "         fill_value='?',\n",
       "              dtype=object),\n",
       "  'params': [{'max_depth': 3, 'num_leaves': 30}],\n",
       "  'split0_test_score': array([-9.55756456]),\n",
       "  'split1_test_score': array([-10.88940518]),\n",
       "  'split2_test_score': array([-7.7850418]),\n",
       "  'split3_test_score': array([-7.67687947]),\n",
       "  'split4_test_score': array([-11.64481193]),\n",
       "  'mean_test_score': array([-9.51063753]),\n",
       "  'std_test_score': array([1.59959053]),\n",
       "  'rank_test_score': array([1]),\n",
       "  'split0_train_score': array([-6.30383543]),\n",
       "  'split1_train_score': array([-6.17731676]),\n",
       "  'split2_train_score': array([-6.70886633]),\n",
       "  'split3_train_score': array([-6.71850954]),\n",
       "  'split4_train_score': array([-6.15678327]),\n",
       "  'mean_train_score': array([-6.41306227]),\n",
       "  'std_train_score': array([0.25059268])},\n",
       " {'max_depth': 3, 'num_leaves': 30},\n",
       " -9.510637528514419)"
      ]
     },
     "execution_count": 297,
     "metadata": {},
     "output_type": "execute_result"
    }
   ],
   "source": [
    "model_lgb =LGBMRegressor(objective='regression', \n",
    "                                       num_leaves=31,\n",
    "                                       learning_rate=0.01, \n",
    "                                       n_estimators=1000,\n",
    "                                       max_bin=200, \n",
    "                                       bagging_fraction=0.75,\n",
    "                                       bagging_freq=5, \n",
    "                                       bagging_seed=7,\n",
    "                                       max_depth=6,\n",
    "                                       feature_fraction=0.8,\n",
    "                                       feature_fraction_seed=7,\n",
    "                                       verbose=-1, \n",
    "                                       )\n",
    "params_test1={\n",
    "    'max_depth': range(3,6,9),\n",
    "    'num_leaves':range(30,35,40)\n",
    "}\n",
    "gsearch1 = GridSearchCV(estimator=model_lgb, param_grid=params_test1, scoring='neg_mean_squared_error', cv=5, verbose=1, n_jobs=4)\n",
    "gsearch1.fit(X, y)\n",
    "gsearch1.cv_results_, gsearch1.best_params_, gsearch1.best_score_"
   ]
  },
  {
   "cell_type": "code",
   "execution_count": 298,
   "metadata": {},
   "outputs": [
    {
     "name": "stdout",
     "output_type": "stream",
     "text": [
      "Fitting 5 folds for each of 9 candidates, totalling 45 fits\n"
     ]
    },
    {
     "name": "stderr",
     "output_type": "stream",
     "text": [
      "[Parallel(n_jobs=4)]: Using backend LokyBackend with 4 concurrent workers.\n",
      "[Parallel(n_jobs=4)]: Done  45 out of  45 | elapsed:  1.1min finished\n"
     ]
    },
    {
     "data": {
      "text/plain": [
       "({'mean_fit_time': array([3.07926159, 3.41524572, 3.57955728, 5.25167308, 5.27744589,\n",
       "         4.94193625, 5.29199057, 6.87217112, 6.03157105]),\n",
       "  'std_fit_time': array([0.17388623, 0.14428342, 0.19206185, 0.206821  , 0.18646222,\n",
       "         0.24938437, 0.08958525, 0.20504717, 0.78301355]),\n",
       "  'mean_score_time': array([0.22022538, 0.17285781, 0.22006993, 0.21991124, 0.24665608,\n",
       "         0.24167023, 0.2094347 , 0.27865272, 0.23226666]),\n",
       "  'std_score_time': array([0.03892587, 0.0318386 , 0.05710808, 0.08229598, 0.05672252,\n",
       "         0.05373638, 0.06061547, 0.05581066, 0.07476484]),\n",
       "  'param_max_depth': masked_array(data=[3, 3, 3, 4, 4, 4, 5, 5, 5],\n",
       "               mask=[False, False, False, False, False, False, False, False,\n",
       "                     False],\n",
       "         fill_value='?',\n",
       "              dtype=object),\n",
       "  'param_num_leaves': masked_array(data=[10, 20, 30, 10, 20, 30, 10, 20, 30],\n",
       "               mask=[False, False, False, False, False, False, False, False,\n",
       "                     False],\n",
       "         fill_value='?',\n",
       "              dtype=object),\n",
       "  'params': [{'max_depth': 3, 'num_leaves': 10},\n",
       "   {'max_depth': 3, 'num_leaves': 20},\n",
       "   {'max_depth': 3, 'num_leaves': 30},\n",
       "   {'max_depth': 4, 'num_leaves': 10},\n",
       "   {'max_depth': 4, 'num_leaves': 20},\n",
       "   {'max_depth': 4, 'num_leaves': 30},\n",
       "   {'max_depth': 5, 'num_leaves': 10},\n",
       "   {'max_depth': 5, 'num_leaves': 20},\n",
       "   {'max_depth': 5, 'num_leaves': 30}],\n",
       "  'split0_test_score': array([-9.55756456, -9.55756456, -9.55756456, -9.65050025, -9.60602232,\n",
       "         -9.60602232, -9.64972548, -9.63574834, -9.68600029]),\n",
       "  'split1_test_score': array([-10.88940518, -10.88940518, -10.88940518, -11.15821878,\n",
       "         -11.16124975, -11.16124975, -11.27486159, -11.08225065,\n",
       "         -11.10887519]),\n",
       "  'split2_test_score': array([-7.7850418 , -7.7850418 , -7.7850418 , -7.80101069, -7.76950257,\n",
       "         -7.76950257, -7.79167031, -7.80036364, -7.77775669]),\n",
       "  'split3_test_score': array([-7.67687947, -7.67687947, -7.67687947, -7.66502995, -7.60889051,\n",
       "         -7.60889051, -7.58632667, -7.6651544 , -7.64008772]),\n",
       "  'split4_test_score': array([-11.64481193, -11.64481193, -11.64481193, -11.48873947,\n",
       "         -11.4197481 , -11.4197481 , -11.39241715, -11.3506358 ,\n",
       "         -11.37512978]),\n",
       "  'mean_test_score': array([-9.51063753, -9.51063753, -9.51063753, -9.55268322, -9.5130818 ,\n",
       "         -9.5130818 , -9.53903432, -9.50682984, -9.51757677]),\n",
       "  'std_test_score': array([1.59959053, 1.59959053, 1.59959053, 1.61019074, 1.61387515,\n",
       "         1.61387515, 1.63238683, 1.56196716, 1.58490958]),\n",
       "  'rank_test_score': array([2, 2, 2, 9, 5, 5, 8, 1, 7]),\n",
       "  'split0_train_score': array([-6.30383543, -6.30383543, -6.30383543, -5.37706695, -4.93138488,\n",
       "         -4.93138488, -5.13662329, -3.8117955 , -3.72704526]),\n",
       "  'split1_train_score': array([-6.17731676, -6.17731676, -6.17731676, -5.33769923, -4.92243465,\n",
       "         -4.92243465, -5.12385026, -3.89661004, -3.79870504]),\n",
       "  'split2_train_score': array([-6.70886633, -6.70886633, -6.70886633, -5.72851753, -5.23690196,\n",
       "         -5.23690196, -5.4898558 , -4.09887981, -3.97821953]),\n",
       "  'split3_train_score': array([-6.71850954, -6.71850954, -6.71850954, -5.80782719, -5.34837536,\n",
       "         -5.34837536, -5.5221101 , -4.23875594, -4.11263674]),\n",
       "  'split4_train_score': array([-6.15678327, -6.15678327, -6.15678327, -5.33068901, -4.94204644,\n",
       "         -4.94204644, -5.1196143 , -3.91870121, -3.81249256]),\n",
       "  'mean_train_score': array([-6.41306227, -6.41306227, -6.41306227, -5.51635998, -5.07622866,\n",
       "         -5.07622866, -5.27841075, -3.9929485 , -3.88581982]),\n",
       "  'std_train_score': array([0.25059268, 0.25059268, 0.25059268, 0.20773054, 0.18028695,\n",
       "         0.18028695, 0.1861759 , 0.15443633, 0.14011342])},\n",
       " {'max_depth': 5, 'num_leaves': 20},\n",
       " -9.506829836687404)"
      ]
     },
     "execution_count": 298,
     "metadata": {},
     "output_type": "execute_result"
    }
   ],
   "source": [
    "params_test2={\n",
    "    'max_depth': [3,4,5],\n",
    "    'num_leaves':[10,20,30]\n",
    "}\n",
    "gsearch2 = GridSearchCV(estimator=model_lgb, param_grid=params_test2, scoring='neg_mean_squared_error', cv=5, verbose=1, n_jobs=4)\n",
    "gsearch2.fit(X, y)\n",
    "gsearch2.cv_results_, gsearch2.best_params_, gsearch2.best_score_"
   ]
  },
  {
   "cell_type": "code",
   "execution_count": 300,
   "metadata": {},
   "outputs": [
    {
     "name": "stdout",
     "output_type": "stream",
     "text": [
      "Fitting 5 folds for each of 10 candidates, totalling 50 fits\n"
     ]
    },
    {
     "name": "stderr",
     "output_type": "stream",
     "text": [
      "[Parallel(n_jobs=4)]: Using backend LokyBackend with 4 concurrent workers.\n",
      "[Parallel(n_jobs=4)]: Done  42 tasks      | elapsed:  1.3min\n",
      "[Parallel(n_jobs=4)]: Done  50 out of  50 | elapsed:  1.4min finished\n"
     ]
    },
    {
     "data": {
      "text/plain": [
       "({'mean_fit_time': array([6.32699428, 6.29671712, 5.73798327, 5.84880075, 5.70782952,\n",
       "         6.06048942, 5.69097276, 5.8422286 , 5.32882876, 4.89588494]),\n",
       "  'std_fit_time': array([0.13265926, 0.07410638, 0.43328873, 0.22320009, 0.23202031,\n",
       "         0.28900754, 0.20200305, 0.18938948, 0.11212122, 0.67995214]),\n",
       "  'mean_score_time': array([0.27852702, 0.24339924, 0.22836514, 0.26505527, 0.22019534,\n",
       "         0.20027499, 0.23277926, 0.2045743 , 0.20167465, 0.17203875]),\n",
       "  'std_score_time': array([0.06066739, 0.05241605, 0.03035906, 0.06725842, 0.02239367,\n",
       "         0.03007075, 0.05242602, 0.02896542, 0.03716209, 0.05332851]),\n",
       "  'param_min_child_samples': masked_array(data=[18, 18, 19, 19, 20, 20, 21, 21, 22, 22],\n",
       "               mask=[False, False, False, False, False, False, False, False,\n",
       "                     False, False],\n",
       "         fill_value='?',\n",
       "              dtype=object),\n",
       "  'param_min_child_weight': masked_array(data=[0.001, 0.002, 0.001, 0.002, 0.001, 0.002, 0.001, 0.002,\n",
       "                     0.001, 0.002],\n",
       "               mask=[False, False, False, False, False, False, False, False,\n",
       "                     False, False],\n",
       "         fill_value='?',\n",
       "              dtype=object),\n",
       "  'params': [{'min_child_samples': 18, 'min_child_weight': 0.001},\n",
       "   {'min_child_samples': 18, 'min_child_weight': 0.002},\n",
       "   {'min_child_samples': 19, 'min_child_weight': 0.001},\n",
       "   {'min_child_samples': 19, 'min_child_weight': 0.002},\n",
       "   {'min_child_samples': 20, 'min_child_weight': 0.001},\n",
       "   {'min_child_samples': 20, 'min_child_weight': 0.002},\n",
       "   {'min_child_samples': 21, 'min_child_weight': 0.001},\n",
       "   {'min_child_samples': 21, 'min_child_weight': 0.002},\n",
       "   {'min_child_samples': 22, 'min_child_weight': 0.001},\n",
       "   {'min_child_samples': 22, 'min_child_weight': 0.002}],\n",
       "  'split0_test_score': array([-9.61208595, -9.61208595, -9.62680689, -9.62680689, -9.63574834,\n",
       "         -9.63574834, -9.65766167, -9.65766167, -9.64207758, -9.64207758]),\n",
       "  'split1_test_score': array([-11.16711016, -11.16711016, -10.95886114, -10.95886114,\n",
       "         -11.08225065, -11.08225065, -10.94013627, -10.94013627,\n",
       "         -10.9561211 , -10.9561211 ]),\n",
       "  'split2_test_score': array([-7.74457921, -7.74457921, -7.7936353 , -7.7936353 , -7.80036364,\n",
       "         -7.80036364, -7.81750903, -7.81750903, -7.80083173, -7.80083173]),\n",
       "  'split3_test_score': array([-7.664621  , -7.664621  , -7.62863613, -7.62863613, -7.6651544 ,\n",
       "         -7.6651544 , -7.6400835 , -7.6400835 , -7.74078937, -7.74078937]),\n",
       "  'split4_test_score': array([-11.26522122, -11.26522122, -11.2831689 , -11.2831689 ,\n",
       "         -11.3506358 , -11.3506358 , -11.33096986, -11.33096986,\n",
       "         -11.2153772 , -11.2153772 ]),\n",
       "  'mean_test_score': array([-9.49074122, -9.49074122, -9.45822327, -9.45822327, -9.50682984,\n",
       "         -9.50682984, -9.4772664 , -9.4772664 , -9.47103456, -9.47103456]),\n",
       "  'std_test_score': array([1.57193316, 1.57193316, 1.53137807, 1.53137807, 1.56196716,\n",
       "         1.56196716, 1.53200202, 1.53200202, 1.48714678, 1.48714678]),\n",
       "  'rank_test_score': array([7, 7, 1, 1, 9, 9, 5, 5, 3, 3]),\n",
       "  'split0_train_score': array([-3.73355962, -3.73355962, -3.76206336, -3.76206336, -3.8117955 ,\n",
       "         -3.8117955 , -3.86293342, -3.86293342, -3.89819203, -3.89819203]),\n",
       "  'split1_train_score': array([-3.78011332, -3.78011332, -3.81427808, -3.81427808, -3.89661004,\n",
       "         -3.89661004, -3.91844952, -3.91844952, -3.97142993, -3.97142993]),\n",
       "  'split2_train_score': array([-4.02145055, -4.02145055, -4.04367179, -4.04367179, -4.09887981,\n",
       "         -4.09887981, -4.1746966 , -4.1746966 , -4.22948621, -4.22948621]),\n",
       "  'split3_train_score': array([-4.13453919, -4.13453919, -4.20194076, -4.20194076, -4.23875594,\n",
       "         -4.23875594, -4.22872424, -4.22872424, -4.28289697, -4.28289697]),\n",
       "  'split4_train_score': array([-3.81632276, -3.81632276, -3.87059616, -3.87059616, -3.91870121,\n",
       "         -3.91870121, -3.94119404, -3.94119404, -3.98345615, -3.98345615]),\n",
       "  'mean_train_score': array([-3.89719709, -3.89719709, -3.93851003, -3.93851003, -3.9929485 ,\n",
       "         -3.9929485 , -4.02519956, -4.02519956, -4.07309226, -4.07309226]),\n",
       "  'std_train_score': array([0.15414064, 0.15414064, 0.16225538, 0.16225538, 0.15443633,\n",
       "         0.15443633, 0.14734616, 0.14734616, 0.15325602, 0.15325602])},\n",
       " {'min_child_samples': 19, 'min_child_weight': 0.001},\n",
       " -9.458223265714034)"
      ]
     },
     "execution_count": 300,
     "metadata": {},
     "output_type": "execute_result"
    }
   ],
   "source": [
    "params_test3={\n",
    "    'min_child_samples': [18, 19, 20, 21, 22],\n",
    "    'min_child_weight':[0.001, 0.002]\n",
    "}\n",
    "model_lgb =LGBMRegressor(objective='regression', \n",
    "                                       num_leaves=20,\n",
    "                                       learning_rate=0.01, \n",
    "                                       n_estimators=1000,\n",
    "                                       max_bin=200, \n",
    "                                       bagging_fraction=0.75,\n",
    "                                       bagging_freq=5, \n",
    "                                       bagging_seed=7,\n",
    "                                       max_depth=5,\n",
    "                                       feature_fraction=0.8,\n",
    "                                       feature_fraction_seed=7,\n",
    "                                       verbose=-1, \n",
    "                                       )\n",
    "gsearch3 = GridSearchCV(estimator=model_lgb, param_grid=params_test3, scoring='neg_mean_squared_error', cv=5, verbose=1, n_jobs=4)\n",
    "gsearch3.fit(X, y)\n",
    "gsearch3.cv_results_, gsearch3.best_params_, gsearch3.best_score_"
   ]
  },
  {
   "cell_type": "code",
   "execution_count": 302,
   "metadata": {},
   "outputs": [
    {
     "name": "stdout",
     "output_type": "stream",
     "text": [
      "Fitting 5 folds for each of 25 candidates, totalling 125 fits\n"
     ]
    },
    {
     "name": "stderr",
     "output_type": "stream",
     "text": [
      "[Parallel(n_jobs=4)]: Using backend LokyBackend with 4 concurrent workers.\n",
      "[Parallel(n_jobs=4)]: Done  42 tasks      | elapsed:  1.1min\n",
      "[Parallel(n_jobs=4)]: Done 125 out of 125 | elapsed:  3.1min finished\n"
     ]
    },
    {
     "data": {
      "text/plain": [
       "({'mean_fit_time': array([4.12335911, 4.93145771, 5.0708056 , 5.40916224, 6.34855947,\n",
       "         4.23561373, 5.06952238, 5.33831553, 5.58752904, 6.03520741,\n",
       "         4.10675101, 4.60711603, 5.16364546, 5.65426888, 6.08754086,\n",
       "         4.17346706, 4.69048233, 5.28125877, 5.76512871, 6.28324394,\n",
       "         4.14918704, 4.65744371, 5.22396255, 5.8776021 , 6.00830626]),\n",
       "  'std_fit_time': array([0.19252751, 0.29862983, 0.06773922, 0.24198572, 0.26309726,\n",
       "         0.21116534, 0.21562866, 0.49625334, 0.13058335, 0.07606162,\n",
       "         0.09234763, 0.06948264, 0.08462704, 0.10310629, 0.08121121,\n",
       "         0.06808197, 0.10231489, 0.15581866, 0.1488157 , 0.13608368,\n",
       "         0.10105414, 0.13290932, 0.07157342, 0.22815927, 0.49150937]),\n",
       "  'mean_score_time': array([0.29913445, 0.20964742, 0.25227156, 0.1783062 , 0.30021548,\n",
       "         0.23634901, 0.23222756, 0.18421526, 0.19238334, 0.18446674,\n",
       "         0.20904584, 0.18596592, 0.19514503, 0.17794695, 0.18341827,\n",
       "         0.18615246, 0.18904414, 0.18131351, 0.17874537, 0.16682482,\n",
       "         0.17409849, 0.16861229, 0.18699617, 0.1662838 , 0.15665164]),\n",
       "  'std_score_time': array([0.07741571, 0.02200739, 0.05849452, 0.01372793, 0.07008996,\n",
       "         0.08898116, 0.04346685, 0.01039279, 0.01400566, 0.01923117,\n",
       "         0.02344571, 0.01516836, 0.0192538 , 0.01037999, 0.0133529 ,\n",
       "         0.025252  , 0.03311895, 0.01552074, 0.03216869, 0.00495913,\n",
       "         0.00498949, 0.01024194, 0.03428281, 0.00589481, 0.02450018]),\n",
       "  'param_bagging_fraction': masked_array(data=[0.6, 0.6, 0.6, 0.6, 0.6, 0.7, 0.7, 0.7, 0.7, 0.7, 0.8,\n",
       "                     0.8, 0.8, 0.8, 0.8, 0.9, 0.9, 0.9, 0.9, 0.9, 1.0, 1.0,\n",
       "                     1.0, 1.0, 1.0],\n",
       "               mask=[False, False, False, False, False, False, False, False,\n",
       "                     False, False, False, False, False, False, False, False,\n",
       "                     False, False, False, False, False, False, False, False,\n",
       "                     False],\n",
       "         fill_value='?',\n",
       "              dtype=object),\n",
       "  'param_feature_fraction': masked_array(data=[0.5, 0.6, 0.7, 0.8, 0.9, 0.5, 0.6, 0.7, 0.8, 0.9, 0.5,\n",
       "                     0.6, 0.7, 0.8, 0.9, 0.5, 0.6, 0.7, 0.8, 0.9, 0.5, 0.6,\n",
       "                     0.7, 0.8, 0.9],\n",
       "               mask=[False, False, False, False, False, False, False, False,\n",
       "                     False, False, False, False, False, False, False, False,\n",
       "                     False, False, False, False, False, False, False, False,\n",
       "                     False],\n",
       "         fill_value='?',\n",
       "              dtype=object),\n",
       "  'params': [{'bagging_fraction': 0.6, 'feature_fraction': 0.5},\n",
       "   {'bagging_fraction': 0.6, 'feature_fraction': 0.6},\n",
       "   {'bagging_fraction': 0.6, 'feature_fraction': 0.7},\n",
       "   {'bagging_fraction': 0.6, 'feature_fraction': 0.8},\n",
       "   {'bagging_fraction': 0.6, 'feature_fraction': 0.9},\n",
       "   {'bagging_fraction': 0.7, 'feature_fraction': 0.5},\n",
       "   {'bagging_fraction': 0.7, 'feature_fraction': 0.6},\n",
       "   {'bagging_fraction': 0.7, 'feature_fraction': 0.7},\n",
       "   {'bagging_fraction': 0.7, 'feature_fraction': 0.8},\n",
       "   {'bagging_fraction': 0.7, 'feature_fraction': 0.9},\n",
       "   {'bagging_fraction': 0.8, 'feature_fraction': 0.5},\n",
       "   {'bagging_fraction': 0.8, 'feature_fraction': 0.6},\n",
       "   {'bagging_fraction': 0.8, 'feature_fraction': 0.7},\n",
       "   {'bagging_fraction': 0.8, 'feature_fraction': 0.8},\n",
       "   {'bagging_fraction': 0.8, 'feature_fraction': 0.9},\n",
       "   {'bagging_fraction': 0.9, 'feature_fraction': 0.5},\n",
       "   {'bagging_fraction': 0.9, 'feature_fraction': 0.6},\n",
       "   {'bagging_fraction': 0.9, 'feature_fraction': 0.7},\n",
       "   {'bagging_fraction': 0.9, 'feature_fraction': 0.8},\n",
       "   {'bagging_fraction': 0.9, 'feature_fraction': 0.9},\n",
       "   {'bagging_fraction': 1.0, 'feature_fraction': 0.5},\n",
       "   {'bagging_fraction': 1.0, 'feature_fraction': 0.6},\n",
       "   {'bagging_fraction': 1.0, 'feature_fraction': 0.7},\n",
       "   {'bagging_fraction': 1.0, 'feature_fraction': 0.8},\n",
       "   {'bagging_fraction': 1.0, 'feature_fraction': 0.9}],\n",
       "  'split0_test_score': array([-9.73120109, -9.73243191, -9.66760488, -9.77159202, -9.86878456,\n",
       "         -9.62175057, -9.60360235, -9.60912031, -9.49471684, -9.66584006,\n",
       "         -9.60349616, -9.61839873, -9.76289719, -9.70460982, -9.81671219,\n",
       "         -9.56876514, -9.64324757, -9.70607333, -9.72710907, -9.7784933 ,\n",
       "         -9.53086141, -9.63388404, -9.67688857, -9.73531649, -9.77990586]),\n",
       "  'split1_test_score': array([-10.86582912, -10.81531347, -10.94962441, -11.1393831 ,\n",
       "         -11.33782797, -10.99481503, -10.97221887, -10.96393349,\n",
       "         -11.04414311, -10.94597922, -10.98600422, -10.89817258,\n",
       "         -10.93313313, -11.1090611 , -11.16243328, -11.02310269,\n",
       "         -11.01854151, -11.04429546, -11.14000775, -11.2079044 ,\n",
       "         -11.11273703, -11.09515874, -11.04235548, -11.15687779,\n",
       "         -11.20410699]),\n",
       "  'split2_test_score': array([-7.67316525, -7.77947246, -7.75377943, -7.83739413, -7.95215823,\n",
       "         -7.71337601, -7.76155953, -7.82353745, -7.80367286, -7.98629156,\n",
       "         -7.68049322, -7.67025842, -7.65085347, -7.69174854, -7.83890616,\n",
       "         -7.76067843, -7.84410973, -7.90655463, -7.91545976, -7.94924913,\n",
       "         -7.90149081, -7.92097771, -7.92703303, -7.88588497, -7.92298338]),\n",
       "  'split3_test_score': array([-7.66885002, -7.58437965, -7.61329859, -7.76043224, -7.71255032,\n",
       "         -7.74589821, -7.73452882, -7.72889015, -7.63232895, -7.62682578,\n",
       "         -7.66104341, -7.63379421, -7.61165246, -7.58984345, -7.57962862,\n",
       "         -7.73597705, -7.6425787 , -7.61763686, -7.52106898, -7.57836445,\n",
       "         -7.73829045, -7.76940947, -7.6291843 , -7.59357383, -7.80477132]),\n",
       "  'split4_test_score': array([-11.37872869, -11.22327553, -11.17264771, -11.24341095,\n",
       "         -11.26753855, -11.23465823, -11.18664101, -11.12344681,\n",
       "         -11.15576103, -11.16193919, -11.24446057, -11.2875358 ,\n",
       "         -11.37386832, -11.26239212, -11.27252826, -11.28645793,\n",
       "         -11.24887656, -11.26089188, -11.31254072, -11.27283573,\n",
       "         -11.30918058, -11.2919945 , -11.39543494, -11.41821148,\n",
       "         -11.50075228]),\n",
       "  'mean_test_score': array([-9.46351347, -9.42699049, -9.43141738, -9.5504758 , -9.62786649,\n",
       "         -9.46208026, -9.45170402, -9.44980186, -9.42614658, -9.47743215,\n",
       "         -9.43508739, -9.42160515, -9.46646287, -9.47156219, -9.53411583,\n",
       "         -9.47497138, -9.47949398, -9.507137  , -9.52331033, -9.55745987,\n",
       "         -9.51850847, -9.54229285, -9.53419428, -9.55800867, -9.64249692]),\n",
       "  'std_test_score': array([1.55748928, 1.50687338, 1.51721269, 1.52157702, 1.55848625,\n",
       "         1.51772932, 1.49316789, 1.46443231, 1.51404073, 1.46113097,\n",
       "         1.54470323, 1.54666813, 1.58810958, 1.59050253, 1.57758766,\n",
       "         1.52624168, 1.5212967 , 1.52359619, 1.57777793, 1.56301715,\n",
       "         1.51849402, 1.50000612, 1.54707484, 1.59369604, 1.56468945]),\n",
       "  'rank_test_score': array([ 9,  3,  4, 21, 24,  8,  7,  6,  2, 13,  5,  1, 10, 11, 18, 12, 14,\n",
       "         15, 17, 22, 16, 20, 19, 23, 25]),\n",
       "  'split0_train_score': array([-4.03461618, -3.9687517 , -3.93030685, -3.88444716, -3.91024631,\n",
       "         -3.94356938, -3.88407271, -3.83771428, -3.80915494, -3.80488657,\n",
       "         -3.87168913, -3.82575512, -3.81796975, -3.75802307, -3.79169921,\n",
       "         -3.83743079, -3.75029751, -3.73658844, -3.72007505, -3.70349159,\n",
       "         -3.80859311, -3.80218838, -3.80645727, -3.80724415, -3.73679629]),\n",
       "  'split1_train_score': array([-4.16320967, -4.09437266, -4.05315729, -3.97834638, -3.97895025,\n",
       "         -4.02751187, -3.93298844, -3.89182762, -3.86447845, -3.86968101,\n",
       "         -3.95813936, -3.90233327, -3.87912236, -3.80778625, -3.83060703,\n",
       "         -3.95099104, -3.89301345, -3.84110042, -3.80925214, -3.82744199,\n",
       "         -3.89933136, -3.90200584, -3.88389737, -3.93457273, -3.87977338]),\n",
       "  'split2_train_score': array([-4.49024034, -4.3860624 , -4.3402636 , -4.28071112, -4.28139256,\n",
       "         -4.31555658, -4.26296233, -4.18348893, -4.14156544, -4.11451329,\n",
       "         -4.22184428, -4.1593869 , -4.09783716, -4.04382335, -4.06992724,\n",
       "         -4.14700395, -4.04876835, -3.99471397, -3.96138286, -3.96814333,\n",
       "         -4.22421151, -4.19879368, -4.12503924, -4.11411137, -4.0477006 ]),\n",
       "  'split3_train_score': array([-4.55070063, -4.4379714 , -4.36884607, -4.31075642, -4.27366916,\n",
       "         -4.38769966, -4.31201223, -4.22464703, -4.19645541, -4.14256099,\n",
       "         -4.29119793, -4.19308951, -4.12043947, -4.04215617, -3.99272031,\n",
       "         -4.28960881, -4.20340372, -4.11905706, -4.07309553, -4.04985092,\n",
       "         -4.3403406 , -4.25630088, -4.20350634, -4.0876999 , -4.15000712]),\n",
       "  'split4_train_score': array([-4.185106  , -4.08435876, -4.05995519, -4.0230443 , -4.0224763 ,\n",
       "         -4.04729819, -3.99104431, -3.91867103, -3.90652359, -3.88386254,\n",
       "         -3.92577418, -3.90882939, -3.8106541 , -3.79479159, -3.78216107,\n",
       "         -3.87201585, -3.82114849, -3.78581858, -3.75259097, -3.67728024,\n",
       "         -3.99296957, -3.96651352, -3.95777269, -3.87926831, -3.84741969]),\n",
       "  'mean_train_score': array([-4.28477457, -4.19430338, -4.1505058 , -4.09546108, -4.09334691,\n",
       "         -4.14432713, -4.076616  , -4.01126978, -3.98363557, -3.96310088,\n",
       "         -4.05372898, -3.99787884, -3.94520457, -3.88931609, -3.89342297,\n",
       "         -4.01941009, -3.9433263 , -3.8954557 , -3.86327931, -3.84524162,\n",
       "         -4.05308923, -4.02516046, -3.99533458, -3.96457929, -3.93233942]),\n",
       "  'std_train_score': array([0.20011193, 0.18389843, 0.17311512, 0.16979787, 0.15460424,\n",
       "         0.17430652, 0.17615939, 0.16009482, 0.15544922, 0.13796333,\n",
       "         0.16929417, 0.14891434, 0.13613476, 0.12653255, 0.1163499 ,\n",
       "         0.1725168 , 0.1633874 , 0.14146616, 0.13366036, 0.14532083,\n",
       "         0.19941434, 0.17429714, 0.1480963 , 0.11870235, 0.14757987])},\n",
       " {'bagging_fraction': 0.8, 'feature_fraction': 0.6},\n",
       " -9.421605148120769)"
      ]
     },
     "execution_count": 302,
     "metadata": {},
     "output_type": "execute_result"
    }
   ],
   "source": [
    "params_test4={\n",
    "    'feature_fraction': [0.5, 0.6, 0.7, 0.8, 0.9],\n",
    "    'bagging_fraction': [0.6, 0.7, 0.8, 0.9, 1.0]\n",
    "}\n",
    "model_lgb =LGBMRegressor(objective='regression', \n",
    "                                       num_leaves=20,\n",
    "                                       learning_rate=0.01, \n",
    "                                       n_estimators=1000,\n",
    "                                       max_bin=200, \n",
    "                                       bagging_fraction=0.75,\n",
    "                                       bagging_freq=5, \n",
    "                                       bagging_seed=7,\n",
    "                                       max_depth=5,\n",
    "                                       feature_fraction=0.8,\n",
    "                                       feature_fraction_seed=7,\n",
    "                                       min_child_samples=19,\n",
    "                                       min_child_weight=0.001,\n",
    "                                       verbose=-1, \n",
    "                                       )\n",
    "gsearch4 = GridSearchCV(estimator=model_lgb, param_grid=params_test4, scoring='neg_mean_squared_error', cv=5, verbose=1, n_jobs=4)\n",
    "gsearch4.fit(X, y)\n",
    "gsearch4.cv_results_, gsearch4.best_params_, gsearch4.best_score_"
   ]
  },
  {
   "cell_type": "code",
   "execution_count": 33,
   "metadata": {},
   "outputs": [
    {
     "name": "stdout",
     "output_type": "stream",
     "text": [
      "Fitting 5 folds for each of 49 candidates, totalling 245 fits\n"
     ]
    },
    {
     "name": "stderr",
     "output_type": "stream",
     "text": [
      "[Parallel(n_jobs=4)]: Using backend LokyBackend with 4 concurrent workers.\n",
      "[Parallel(n_jobs=4)]: Done  42 tasks      | elapsed:  1.4min\n",
      "[Parallel(n_jobs=4)]: Done 192 tasks      | elapsed:  4.8min\n",
      "[Parallel(n_jobs=4)]: Done 245 out of 245 | elapsed:  6.0min finished\n"
     ]
    },
    {
     "data": {
      "text/plain": [
       "({'mean_fit_time': array([5.628053  , 5.46415396, 6.13464952, 4.96900187, 4.93647709,\n",
       "         4.90358348, 4.76333141, 4.72423143, 4.86099429, 4.77896008,\n",
       "         5.1381906 , 4.84196377, 4.64518433, 4.63103833, 4.60705581,\n",
       "         4.63705626, 4.61647148, 4.60739255, 4.65079217, 4.72641644,\n",
       "         4.712713  , 4.75378656, 4.67388763, 4.78904352, 4.64588385,\n",
       "         4.62377057, 4.63967624, 4.61958079, 4.6372838 , 4.64349589,\n",
       "         4.64022636, 4.75343018, 4.71322384, 4.629459  , 4.60627031,\n",
       "         4.6945477 , 4.6371181 , 4.6346365 , 4.62071729, 4.65654168,\n",
       "         4.65794206, 4.76500902, 4.67725773, 4.64757872, 4.65007257,\n",
       "         4.6275423 , 4.78732004, 4.70802188, 4.47571106]),\n",
       "  'std_fit_time': array([0.1113558 , 0.16324254, 0.62131607, 0.80448149, 0.11421501,\n",
       "         0.13065651, 0.13418043, 0.0734317 , 0.12347129, 0.08734458,\n",
       "         0.33017929, 0.41944844, 0.07389401, 0.09143806, 0.10415271,\n",
       "         0.08457363, 0.08373954, 0.08514168, 0.09540025, 0.11625996,\n",
       "         0.1631161 , 0.10604968, 0.16159309, 0.09117411, 0.08167587,\n",
       "         0.04851594, 0.10494505, 0.07848088, 0.07539685, 0.05478149,\n",
       "         0.08911202, 0.07729065, 0.07556048, 0.1156598 , 0.08431523,\n",
       "         0.09769687, 0.10595173, 0.07989268, 0.07789623, 0.11037284,\n",
       "         0.09472831, 0.1380182 , 0.075197  , 0.07394781, 0.07920139,\n",
       "         0.06348897, 0.11396087, 0.14405949, 0.25102394]),\n",
       "  'mean_score_time': array([0.27353091, 0.34718924, 0.30332046, 0.27378831, 0.21370454,\n",
       "         0.24674735, 0.24181476, 0.2428441 , 0.20560951, 0.21175747,\n",
       "         0.24900918, 0.20366874, 0.19370904, 0.19709077, 0.20644512,\n",
       "         0.20379477, 0.18620133, 0.18466043, 0.1886467 , 0.20000281,\n",
       "         0.1968894 , 0.20482497, 0.18467345, 0.19055266, 0.1888351 ,\n",
       "         0.1822783 , 0.19624615, 0.20109863, 0.1847609 , 0.2001442 ,\n",
       "         0.18844905, 0.20114141, 0.20049281, 0.19928188, 0.21960025,\n",
       "         0.2073956 , 0.1951973 , 0.19688053, 0.20216398, 0.18381476,\n",
       "         0.19366932, 0.18494816, 0.18845582, 0.19026699, 0.19879608,\n",
       "         0.18142986, 0.19712629, 0.18649468, 0.1835371 ]),\n",
       "  'std_score_time': array([0.05849298, 0.03601186, 0.08846057, 0.0529947 , 0.0287443 ,\n",
       "         0.05176046, 0.06053802, 0.06382031, 0.03635578, 0.03796583,\n",
       "         0.0499614 , 0.02499156, 0.02203939, 0.02267348, 0.02757542,\n",
       "         0.0236873 , 0.02404154, 0.02234289, 0.01198705, 0.03172191,\n",
       "         0.03050402, 0.0318734 , 0.01186423, 0.01561351, 0.0137073 ,\n",
       "         0.01193591, 0.02139161, 0.03057978, 0.01070091, 0.03617878,\n",
       "         0.0120802 , 0.01508979, 0.01230107, 0.02742221, 0.02144457,\n",
       "         0.01995053, 0.01643536, 0.02119441, 0.02373966, 0.01491874,\n",
       "         0.01915268, 0.00923061, 0.01086521, 0.00764521, 0.01910604,\n",
       "         0.00371562, 0.01818807, 0.02346523, 0.01669451]),\n",
       "  'param_reg_alpha': masked_array(data=[0, 0, 0, 0, 0, 0, 0, 0.001, 0.001, 0.001, 0.001, 0.001,\n",
       "                     0.001, 0.001, 0.01, 0.01, 0.01, 0.01, 0.01, 0.01, 0.01,\n",
       "                     0.03, 0.03, 0.03, 0.03, 0.03, 0.03, 0.03, 0.08, 0.08,\n",
       "                     0.08, 0.08, 0.08, 0.08, 0.08, 0.3, 0.3, 0.3, 0.3, 0.3,\n",
       "                     0.3, 0.3, 0.5, 0.5, 0.5, 0.5, 0.5, 0.5, 0.5],\n",
       "               mask=[False, False, False, False, False, False, False, False,\n",
       "                     False, False, False, False, False, False, False, False,\n",
       "                     False, False, False, False, False, False, False, False,\n",
       "                     False, False, False, False, False, False, False, False,\n",
       "                     False, False, False, False, False, False, False, False,\n",
       "                     False, False, False, False, False, False, False, False,\n",
       "                     False],\n",
       "         fill_value='?',\n",
       "              dtype=object),\n",
       "  'param_reg_lambda': masked_array(data=[0, 0.001, 0.01, 0.03, 0.08, 0.3, 0.5, 0, 0.001, 0.01,\n",
       "                     0.03, 0.08, 0.3, 0.5, 0, 0.001, 0.01, 0.03, 0.08, 0.3,\n",
       "                     0.5, 0, 0.001, 0.01, 0.03, 0.08, 0.3, 0.5, 0, 0.001,\n",
       "                     0.01, 0.03, 0.08, 0.3, 0.5, 0, 0.001, 0.01, 0.03, 0.08,\n",
       "                     0.3, 0.5, 0, 0.001, 0.01, 0.03, 0.08, 0.3, 0.5],\n",
       "               mask=[False, False, False, False, False, False, False, False,\n",
       "                     False, False, False, False, False, False, False, False,\n",
       "                     False, False, False, False, False, False, False, False,\n",
       "                     False, False, False, False, False, False, False, False,\n",
       "                     False, False, False, False, False, False, False, False,\n",
       "                     False, False, False, False, False, False, False, False,\n",
       "                     False],\n",
       "         fill_value='?',\n",
       "              dtype=object),\n",
       "  'params': [{'reg_alpha': 0, 'reg_lambda': 0},\n",
       "   {'reg_alpha': 0, 'reg_lambda': 0.001},\n",
       "   {'reg_alpha': 0, 'reg_lambda': 0.01},\n",
       "   {'reg_alpha': 0, 'reg_lambda': 0.03},\n",
       "   {'reg_alpha': 0, 'reg_lambda': 0.08},\n",
       "   {'reg_alpha': 0, 'reg_lambda': 0.3},\n",
       "   {'reg_alpha': 0, 'reg_lambda': 0.5},\n",
       "   {'reg_alpha': 0.001, 'reg_lambda': 0},\n",
       "   {'reg_alpha': 0.001, 'reg_lambda': 0.001},\n",
       "   {'reg_alpha': 0.001, 'reg_lambda': 0.01},\n",
       "   {'reg_alpha': 0.001, 'reg_lambda': 0.03},\n",
       "   {'reg_alpha': 0.001, 'reg_lambda': 0.08},\n",
       "   {'reg_alpha': 0.001, 'reg_lambda': 0.3},\n",
       "   {'reg_alpha': 0.001, 'reg_lambda': 0.5},\n",
       "   {'reg_alpha': 0.01, 'reg_lambda': 0},\n",
       "   {'reg_alpha': 0.01, 'reg_lambda': 0.001},\n",
       "   {'reg_alpha': 0.01, 'reg_lambda': 0.01},\n",
       "   {'reg_alpha': 0.01, 'reg_lambda': 0.03},\n",
       "   {'reg_alpha': 0.01, 'reg_lambda': 0.08},\n",
       "   {'reg_alpha': 0.01, 'reg_lambda': 0.3},\n",
       "   {'reg_alpha': 0.01, 'reg_lambda': 0.5},\n",
       "   {'reg_alpha': 0.03, 'reg_lambda': 0},\n",
       "   {'reg_alpha': 0.03, 'reg_lambda': 0.001},\n",
       "   {'reg_alpha': 0.03, 'reg_lambda': 0.01},\n",
       "   {'reg_alpha': 0.03, 'reg_lambda': 0.03},\n",
       "   {'reg_alpha': 0.03, 'reg_lambda': 0.08},\n",
       "   {'reg_alpha': 0.03, 'reg_lambda': 0.3},\n",
       "   {'reg_alpha': 0.03, 'reg_lambda': 0.5},\n",
       "   {'reg_alpha': 0.08, 'reg_lambda': 0},\n",
       "   {'reg_alpha': 0.08, 'reg_lambda': 0.001},\n",
       "   {'reg_alpha': 0.08, 'reg_lambda': 0.01},\n",
       "   {'reg_alpha': 0.08, 'reg_lambda': 0.03},\n",
       "   {'reg_alpha': 0.08, 'reg_lambda': 0.08},\n",
       "   {'reg_alpha': 0.08, 'reg_lambda': 0.3},\n",
       "   {'reg_alpha': 0.08, 'reg_lambda': 0.5},\n",
       "   {'reg_alpha': 0.3, 'reg_lambda': 0},\n",
       "   {'reg_alpha': 0.3, 'reg_lambda': 0.001},\n",
       "   {'reg_alpha': 0.3, 'reg_lambda': 0.01},\n",
       "   {'reg_alpha': 0.3, 'reg_lambda': 0.03},\n",
       "   {'reg_alpha': 0.3, 'reg_lambda': 0.08},\n",
       "   {'reg_alpha': 0.3, 'reg_lambda': 0.3},\n",
       "   {'reg_alpha': 0.3, 'reg_lambda': 0.5},\n",
       "   {'reg_alpha': 0.5, 'reg_lambda': 0},\n",
       "   {'reg_alpha': 0.5, 'reg_lambda': 0.001},\n",
       "   {'reg_alpha': 0.5, 'reg_lambda': 0.01},\n",
       "   {'reg_alpha': 0.5, 'reg_lambda': 0.03},\n",
       "   {'reg_alpha': 0.5, 'reg_lambda': 0.08},\n",
       "   {'reg_alpha': 0.5, 'reg_lambda': 0.3},\n",
       "   {'reg_alpha': 0.5, 'reg_lambda': 0.5}],\n",
       "  'split0_test_score': array([-9.61816781, -9.61053628, -9.59787602, -9.63839457, -9.61812512,\n",
       "         -9.61476692, -9.61844179, -9.62449777, -9.62449032, -9.59756052,\n",
       "         -9.64311319, -9.5966379 , -9.62916528, -9.6336448 , -9.60201484,\n",
       "         -9.58808274, -9.62019546, -9.6165597 , -9.60342981, -9.63925004,\n",
       "         -9.63291003, -9.59577627, -9.60488919, -9.58591562, -9.60073017,\n",
       "         -9.61711361, -9.62945848, -9.63390251, -9.61151421, -9.63063291,\n",
       "         -9.60234382, -9.5938293 , -9.58885817, -9.62138094, -9.63560626,\n",
       "         -9.63385298, -9.60015192, -9.5868086 , -9.61031549, -9.60691837,\n",
       "         -9.56825373, -9.60803203, -9.6198612 , -9.6198547 , -9.60163325,\n",
       "         -9.58402605, -9.61296815, -9.64198394, -9.61830668]),\n",
       "  'split1_test_score': array([-10.92140629, -10.95506191, -10.90731106, -10.91986445,\n",
       "         -10.93207023, -10.93836367, -10.97133282, -10.89971776,\n",
       "         -10.9683844 , -10.91223638, -10.92877825, -10.9297538 ,\n",
       "         -10.92856076, -10.98732129, -10.87212833, -10.89291003,\n",
       "         -10.91351395, -10.93888011, -10.97400375, -10.90645442,\n",
       "         -10.94352729, -10.907692  , -10.91286046, -10.91933373,\n",
       "         -10.91493353, -10.94230242, -10.91230765, -10.92713399,\n",
       "         -10.90583524, -10.91177219, -10.94156749, -10.91050992,\n",
       "         -10.91206199, -10.95839349, -10.93773006, -10.9345515 ,\n",
       "         -10.97304256, -10.93886318, -10.9220049 , -10.9613395 ,\n",
       "         -10.94721997, -10.93099026, -10.88207079, -10.91429146,\n",
       "         -10.90052214, -10.91487763, -10.93622728, -10.93570815,\n",
       "         -10.91001956]),\n",
       "  'split2_test_score': array([-7.85570715, -7.82644063, -7.85964171, -7.83456517, -7.83292521,\n",
       "         -7.80976928, -7.79065441, -7.82194546, -7.85668864, -7.82013787,\n",
       "         -7.84197165, -7.84401077, -7.80655627, -7.78543723, -7.85146363,\n",
       "         -7.85145769, -7.85500829, -7.84514848, -7.84264189, -7.79859909,\n",
       "         -7.78720555, -7.80317728, -7.84394323, -7.84252858, -7.81291415,\n",
       "         -7.82830837, -7.80897331, -7.80079794, -7.82377195, -7.81980334,\n",
       "         -7.85858418, -7.82965301, -7.84147799, -7.82025684, -7.76279715,\n",
       "         -7.80304913, -7.83241915, -7.7987774 , -7.82424129, -7.79775489,\n",
       "         -7.8210985 , -7.78278409, -7.7939334 , -7.83485978, -7.83573919,\n",
       "         -7.78118549, -7.80441845, -7.7858784 , -7.79342986]),\n",
       "  'split3_test_score': array([-7.63094542, -7.64058466, -7.62156652, -7.60105064, -7.64164843,\n",
       "         -7.63408462, -7.62054851, -7.62375814, -7.62376438, -7.62411311,\n",
       "         -7.60210348, -7.62804158, -7.6407513 , -7.618664  , -7.59192557,\n",
       "         -7.59240683, -7.60922942, -7.58470913, -7.63234722, -7.59589751,\n",
       "         -7.62802446, -7.62666774, -7.62667412, -7.60562565, -7.60713591,\n",
       "         -7.62103922, -7.58193755, -7.59072529, -7.58666656, -7.60428873,\n",
       "         -7.60510729, -7.60611385, -7.58623466, -7.59989615, -7.63870866,\n",
       "         -7.6294482 , -7.62934073, -7.63636758, -7.6244533 , -7.64150817,\n",
       "         -7.61283659, -7.63682637, -7.6051849 , -7.60519108, -7.60976816,\n",
       "         -7.58692461, -7.59288895, -7.63600642, -7.62163367]),\n",
       "  'split4_test_score': array([-11.24200807, -11.23224129, -11.23625384, -11.24274994,\n",
       "         -11.21734676, -11.20161129, -11.18698434, -11.25006746,\n",
       "         -11.22871334, -11.20830973, -11.21810497, -11.26778305,\n",
       "         -11.22306887, -11.17804336, -11.22133851, -11.24026142,\n",
       "         -11.22779271, -11.23896129, -11.2441273 , -11.25079134,\n",
       "         -11.22249537, -11.26617458, -11.26043455, -11.20302196,\n",
       "         -11.2260728 , -11.25422966, -11.2137349 , -11.20210284,\n",
       "         -11.23707169, -11.23745941, -11.23972297, -11.26226354,\n",
       "         -11.24633752, -11.25241514, -11.19422734, -11.30303499,\n",
       "         -11.30281833, -11.21182161, -11.23585401, -11.22951262,\n",
       "         -11.23202235, -11.22484086, -11.21570146, -11.21570715,\n",
       "         -11.26185272, -11.21093355, -11.21155709, -11.17507309,\n",
       "         -11.22154103]),\n",
       "  'mean_test_score': array([-9.45370337, -9.45302699, -9.44458242, -9.44739048, -9.44848134,\n",
       "         -9.43977919, -9.43765439, -9.44405922, -9.46046449, -9.43252814,\n",
       "         -9.44688163, -9.45329459, -9.44568344, -9.44068833, -9.42783393,\n",
       "         -9.43307692, -9.445208  , -9.44491063, -9.45935942, -9.43826743,\n",
       "         -9.44289772, -9.43995103, -9.44981351, -9.43133814, -9.43241505,\n",
       "         -9.45265507, -9.42935102, -9.43100212, -9.43303316, -9.44085642,\n",
       "         -9.44951758, -9.44052652, -9.43504683, -9.45052712, -9.43388309,\n",
       "         -9.46084671, -9.46760001, -9.4345799 , -9.44343105, -9.44746141,\n",
       "         -9.43633148, -9.43675348, -9.42341774, -9.4380432 , -9.44195787,\n",
       "         -9.41564723, -9.43167418, -9.435001  , -9.43304971]),\n",
       "  'std_test_score': array([1.50009727, 1.50820376, 1.49698236, 1.51223636, 1.49863696,\n",
       "         1.50293524, 1.51364578, 1.50692239, 1.50792182, 1.49910185,\n",
       "         1.50644432, 1.51064962, 1.50548183, 1.51680286, 1.49564046,\n",
       "         1.50378213, 1.50065942, 1.51629294, 1.51315284, 1.52053627,\n",
       "         1.51566254, 1.51504235, 1.50610162, 1.49870737, 1.50956723,\n",
       "         1.51533451, 1.51379838, 1.51371739, 1.51330593, 1.51157714,\n",
       "         1.50887093, 1.51388052, 1.51259313, 1.52501341, 1.51078748,\n",
       "         1.52929707, 1.52977013, 1.50666474, 1.50687886, 1.5147321 ,\n",
       "         1.51359867, 1.51200646, 1.50571624, 1.50320845, 1.50982876,\n",
       "         1.51729283, 1.51589827, 1.50166622, 1.50865486]),\n",
       "  'rank_test_score': array([45, 43, 31, 36, 38, 22, 19, 30, 47,  9, 35, 44, 34, 25,  3, 12, 33,\n",
       "         32, 46, 21, 28, 23, 40,  6,  8, 42,  4,  5, 10, 26, 39, 24, 16, 41,\n",
       "         13, 48, 49, 14, 29, 37, 17, 18,  2, 20, 27,  1,  7, 15, 11]),\n",
       "  'split0_train_score': array([-3.80798246, -3.81135613, -3.79956817, -3.81147963, -3.81417224,\n",
       "         -3.82229405, -3.82565007, -3.80888081, -3.80895252, -3.81448788,\n",
       "         -3.80936808, -3.80477173, -3.8233542 , -3.82593425, -3.79404575,\n",
       "         -3.79361312, -3.79300448, -3.80022813, -3.81154795, -3.81426953,\n",
       "         -3.83044765, -3.79211771, -3.79613836, -3.80338957, -3.79370871,\n",
       "         -3.81004398, -3.8216378 , -3.83071122, -3.8101245 , -3.79174202,\n",
       "         -3.81027912, -3.79983452, -3.79802468, -3.80721939, -3.83320367,\n",
       "         -3.80448122, -3.80161601, -3.79379039, -3.81029275, -3.81657403,\n",
       "         -3.81657322, -3.83038926, -3.80329485, -3.80336564, -3.79655043,\n",
       "         -3.80549607, -3.81120995, -3.83016196, -3.83004325]),\n",
       "  'split1_train_score': array([-3.91583816, -3.91515156, -3.92342634, -3.93298406, -3.93830789,\n",
       "         -3.94349   , -3.95263245, -3.92039342, -3.9121861 , -3.92635359,\n",
       "         -3.92188083, -3.9393385 , -3.93932734, -3.950233  , -3.90973953,\n",
       "         -3.90907719, -3.92332436, -3.93490112, -3.93107048, -3.93694029,\n",
       "         -3.9545718 , -3.91001659, -3.91221576, -3.9297992 , -3.93384028,\n",
       "         -3.92772831, -3.94743534, -3.9492465 , -3.92858951, -3.92749661,\n",
       "         -3.92958033, -3.93464327, -3.92303702, -3.95805459, -3.95774022,\n",
       "         -3.93070861, -3.9284204 , -3.93200554, -3.93157548, -3.93307289,\n",
       "         -3.92552229, -3.94548495, -3.92016347, -3.93221936, -3.94060642,\n",
       "         -3.93618345, -3.93042187, -3.93209479, -3.96204457]),\n",
       "  'split2_train_score': array([-4.05982812, -4.06553057, -4.05274606, -4.04743195, -4.05857224,\n",
       "         -4.05915114, -4.07848386, -4.0697323 , -4.0671542 , -4.05861773,\n",
       "         -4.05368418, -4.06476503, -4.06999284, -4.08391521, -4.05755684,\n",
       "         -4.05763303, -4.03863568, -4.0604886 , -4.05395307, -4.08055899,\n",
       "         -4.07387587, -4.07145843, -4.04813535, -4.04850458, -4.05930803,\n",
       "         -4.05712645, -4.073926  , -4.09162853, -4.05932362, -4.05653242,\n",
       "         -4.06162452, -4.04774984, -4.07480997, -4.0880308 , -4.08617552,\n",
       "         -4.04779382, -4.04800513, -4.056438  , -4.06123671, -4.06681193,\n",
       "         -4.06236719, -4.07546501, -4.05736734, -4.06274651, -4.05899841,\n",
       "         -4.06991601, -4.0546935 , -4.07810935, -4.07051988]),\n",
       "  'split3_train_score': array([-4.20215693, -4.19666791, -4.18867466, -4.19316323, -4.19773956,\n",
       "         -4.20470666, -4.20537946, -4.19448396, -4.19456054, -4.19448224,\n",
       "         -4.18343504, -4.19916619, -4.20939581, -4.22725168, -4.20026679,\n",
       "         -4.20259904, -4.19557399, -4.19734581, -4.18846988, -4.22174673,\n",
       "         -4.21961963, -4.18685437, -4.18693115, -4.18090396, -4.18664757,\n",
       "         -4.20823762, -4.20582738, -4.23104965, -4.19057765, -4.20607022,\n",
       "         -4.19926474, -4.19795577, -4.19969583, -4.22061909, -4.24018188,\n",
       "         -4.18874825, -4.18884764, -4.19443012, -4.18551173, -4.19345527,\n",
       "         -4.21983058, -4.21606355, -4.1913988 , -4.19147446, -4.19581128,\n",
       "         -4.19601526, -4.20836364, -4.20508014, -4.20769132]),\n",
       "  'split4_train_score': array([-3.836777  , -3.82764284, -3.83890747, -3.83928553, -3.85203266,\n",
       "         -3.85485749, -3.86367071, -3.82829878, -3.83243134, -3.8405973 ,\n",
       "         -3.84377403, -3.85591039, -3.8612757 , -3.86474459, -3.84001252,\n",
       "         -3.83204952, -3.83538419, -3.83948471, -3.84320126, -3.85951634,\n",
       "         -3.87018357, -3.83475932, -3.83288498, -3.84180121, -3.84963293,\n",
       "         -3.84289519, -3.8544711 , -3.86887944, -3.83886274, -3.83621624,\n",
       "         -3.84768278, -3.85426613, -3.84482089, -3.8556572 , -3.85477397,\n",
       "         -3.84900496, -3.84692081, -3.83059086, -3.85347549, -3.84923887,\n",
       "         -3.86355932, -3.85964391, -3.82593152, -3.82600032, -3.84036244,\n",
       "         -3.84386705, -3.8484722 , -3.86672636, -3.86474687]),\n",
       "  'mean_train_score': array([-3.96451653, -3.9632698 , -3.96066454, -3.96486888, -3.97216492,\n",
       "         -3.97689987, -3.98516331, -3.96435785, -3.96305694, -3.96690775,\n",
       "         -3.96242843, -3.97279037, -3.98066918, -3.99041574, -3.96032429,\n",
       "         -3.95899438, -3.95718454, -3.96648967, -3.96564853, -3.98260638,\n",
       "         -3.9897397 , -3.95904129, -3.95526112, -3.9608797 , -3.96462751,\n",
       "         -3.96920631, -3.98065952, -3.99430307, -3.9654956 , -3.9636115 ,\n",
       "         -3.9696863 , -3.96688991, -3.96807768, -3.98591621, -3.99441505,\n",
       "         -3.96414737, -3.962762  , -3.96145098, -3.96841843, -3.9718306 ,\n",
       "         -3.97757052, -3.98540933, -3.9596312 , -3.96316126, -3.9664658 ,\n",
       "         -3.97029557, -3.97063223, -3.98243452, -3.98700918]),\n",
       "  'std_train_score': array([0.14747688, 0.1474583 , 0.14326977, 0.14089077, 0.1406342 ,\n",
       "         0.14040992, 0.14033322, 0.14743124, 0.14685314, 0.14214898,\n",
       "         0.13879624, 0.14332869, 0.14213131, 0.14784821, 0.14947165,\n",
       "         0.15167762, 0.14587717, 0.14621994, 0.1395586 , 0.14990441,\n",
       "         0.14200569, 0.14849197, 0.14453062, 0.13859121, 0.14257781,\n",
       "         0.14688328, 0.14262852, 0.14835408, 0.14212934, 0.15132315,\n",
       "         0.14357082, 0.14252103, 0.14911584, 0.15178212, 0.15208886,\n",
       "         0.13950734, 0.14067528, 0.14792112, 0.13807081, 0.14055208,\n",
       "         0.14663431, 0.14335516, 0.14638506, 0.14652597, 0.14601619,\n",
       "         0.14503813, 0.1452845 , 0.13988148, 0.1384805 ])},\n",
       " {'reg_alpha': 0.5, 'reg_lambda': 0.03},\n",
       " -9.415647229267954)"
      ]
     },
     "execution_count": 33,
     "metadata": {},
     "output_type": "execute_result"
    }
   ],
   "source": [
    "params_test6={\n",
    "    'reg_alpha': [0, 0.001, 0.01, 0.03, 0.08, 0.3, 0.5],\n",
    "    'reg_lambda': [0, 0.001, 0.01, 0.03, 0.08, 0.3, 0.5]\n",
    "}\n",
    "model_lgb =LGBMRegressor(objective='regression', \n",
    "                                       num_leaves=20,\n",
    "                                       learning_rate=0.01, \n",
    "                                       n_estimators=1000,\n",
    "                                       max_bin=200, \n",
    "                                       bagging_fraction=0.8,\n",
    "                                       bagging_freq=5, \n",
    "                                       bagging_seed=7,\n",
    "                                       max_depth=5,\n",
    "                                       feature_fraction=0.6,\n",
    "                                       feature_fraction_seed=7,\n",
    "                                       min_child_samples=19,\n",
    "                                       min_child_weight=0.001,\n",
    "                                       verbose=-1, \n",
    "                                       )\n",
    "gsearch6 = GridSearchCV(estimator=model_lgb, param_grid=params_test6, scoring='neg_mean_squared_error', cv=5, verbose=1, n_jobs=4)\n",
    "gsearch6.fit(X, y)\n",
    "gsearch6.cv_results_, gsearch6.best_params_, gsearch6.best_score_"
   ]
  },
  {
   "cell_type": "code",
   "execution_count": 305,
   "metadata": {},
   "outputs": [
    {
     "data": {
      "text/plain": [
       "({'mean_fit_time': array([4.97596812, 4.56519141, 4.6299655 , 4.72964907, 5.43317046,\n",
       "         4.98735261, 4.9069509 , 4.95638523, 5.23807311, 5.42600513,\n",
       "         5.09586973, 5.1090209 , 5.07387486, 5.09463382, 4.92699361,\n",
       "         4.87130556, 4.83654909, 5.12759809, 4.85708809, 4.87348876,\n",
       "         5.09928212, 5.22957554, 5.44758   , 5.47263279, 4.98646793,\n",
       "         5.18768034, 5.08697381, 5.07819328, 4.73698864, 5.39143648,\n",
       "         5.35630507, 4.88529487, 5.33161945, 5.01836019, 4.91344862,\n",
       "         5.19264803, 5.33601446, 4.66230583, 4.617031  , 4.5413662 ,\n",
       "         4.81081457, 5.40598211, 5.21312242, 5.25594907, 5.13760023,\n",
       "         4.8067359 , 4.63621383, 4.590065  , 4.51367254]),\n",
       "  'std_fit_time': array([0.2578803 , 0.11026726, 0.11237604, 0.07414189, 0.27021681,\n",
       "         0.10661426, 0.11396824, 0.16849571, 0.0999547 , 0.17277503,\n",
       "         0.16568717, 0.20657061, 0.04743203, 0.23840107, 0.13267028,\n",
       "         0.17266269, 0.13875544, 0.2614112 , 0.11746111, 0.23838751,\n",
       "         0.09274497, 0.1509663 , 0.18274233, 0.12871227, 0.11458764,\n",
       "         0.2186503 , 0.20437875, 0.09264535, 0.24796838, 0.12444093,\n",
       "         0.24720604, 0.22808473, 0.2368522 , 0.11496479, 0.15219837,\n",
       "         0.21106295, 0.20455865, 0.21787892, 0.11883054, 0.09610658,\n",
       "         0.18121469, 0.14129369, 0.15126917, 0.19586285, 0.29826155,\n",
       "         0.07885777, 0.10899275, 0.0848136 , 0.16394979]),\n",
       "  'mean_score_time': array([0.25667119, 0.22346334, 0.25385847, 0.25325017, 0.26249213,\n",
       "         0.24686761, 0.25936775, 0.26561732, 0.21329827, 0.2118309 ,\n",
       "         0.22064505, 0.22501101, 0.21721091, 0.20503626, 0.19674377,\n",
       "         0.18168683, 0.18733125, 0.23721375, 0.20130868, 0.20768933,\n",
       "         0.22183051, 0.21916504, 0.23422146, 0.21293993, 0.21105571,\n",
       "         0.21096644, 0.21662636, 0.23782487, 0.2674983 , 0.37659264,\n",
       "         0.24496574, 0.25897441, 0.22324781, 0.24873223, 0.18350363,\n",
       "         0.24947577, 0.24123521, 0.17719927, 0.1788146 , 0.19668341,\n",
       "         0.21411643, 0.25231471, 0.23483801, 0.26325407, 0.18879576,\n",
       "         0.20309243, 0.19566336, 0.20980844, 0.16956215]),\n",
       "  'std_score_time': array([0.04959669, 0.0536941 , 0.05715291, 0.02141822, 0.07991518,\n",
       "         0.0571109 , 0.07755893, 0.07460644, 0.02606498, 0.03074575,\n",
       "         0.02350964, 0.04629279, 0.05530783, 0.01950356, 0.03485361,\n",
       "         0.01708815, 0.02104572, 0.06618388, 0.01332361, 0.02129896,\n",
       "         0.04846632, 0.03531173, 0.04932027, 0.02441397, 0.05395503,\n",
       "         0.02994001, 0.04646996, 0.04894562, 0.06220288, 0.06177985,\n",
       "         0.03724465, 0.06458146, 0.03954424, 0.06213662, 0.01491571,\n",
       "         0.04961034, 0.03735693, 0.01694546, 0.01271956, 0.0342907 ,\n",
       "         0.0407416 , 0.06238404, 0.03812487, 0.07762988, 0.02841555,\n",
       "         0.0524069 , 0.03381448, 0.04004856, 0.02857376]),\n",
       "  'param_reg_alpha': masked_array(data=[0, 0, 0, 0, 0, 0, 0, 0.001, 0.001, 0.001, 0.001, 0.001,\n",
       "                     0.001, 0.001, 0.01, 0.01, 0.01, 0.01, 0.01, 0.01, 0.01,\n",
       "                     0.03, 0.03, 0.03, 0.03, 0.03, 0.03, 0.03, 0.08, 0.08,\n",
       "                     0.08, 0.08, 0.08, 0.08, 0.08, 0.3, 0.3, 0.3, 0.3, 0.3,\n",
       "                     0.3, 0.3, 0.5, 0.5, 0.5, 0.5, 0.5, 0.5, 0.5],\n",
       "               mask=[False, False, False, False, False, False, False, False,\n",
       "                     False, False, False, False, False, False, False, False,\n",
       "                     False, False, False, False, False, False, False, False,\n",
       "                     False, False, False, False, False, False, False, False,\n",
       "                     False, False, False, False, False, False, False, False,\n",
       "                     False, False, False, False, False, False, False, False,\n",
       "                     False],\n",
       "         fill_value='?',\n",
       "              dtype=object),\n",
       "  'param_reg_lambda': masked_array(data=[0, 0.001, 0.01, 0.03, 0.08, 0.3, 0.5, 0, 0.001, 0.01,\n",
       "                     0.03, 0.08, 0.3, 0.5, 0, 0.001, 0.01, 0.03, 0.08, 0.3,\n",
       "                     0.5, 0, 0.001, 0.01, 0.03, 0.08, 0.3, 0.5, 0, 0.001,\n",
       "                     0.01, 0.03, 0.08, 0.3, 0.5, 0, 0.001, 0.01, 0.03, 0.08,\n",
       "                     0.3, 0.5, 0, 0.001, 0.01, 0.03, 0.08, 0.3, 0.5],\n",
       "               mask=[False, False, False, False, False, False, False, False,\n",
       "                     False, False, False, False, False, False, False, False,\n",
       "                     False, False, False, False, False, False, False, False,\n",
       "                     False, False, False, False, False, False, False, False,\n",
       "                     False, False, False, False, False, False, False, False,\n",
       "                     False, False, False, False, False, False, False, False,\n",
       "                     False],\n",
       "         fill_value='?',\n",
       "              dtype=object),\n",
       "  'params': [{'reg_alpha': 0, 'reg_lambda': 0},\n",
       "   {'reg_alpha': 0, 'reg_lambda': 0.001},\n",
       "   {'reg_alpha': 0, 'reg_lambda': 0.01},\n",
       "   {'reg_alpha': 0, 'reg_lambda': 0.03},\n",
       "   {'reg_alpha': 0, 'reg_lambda': 0.08},\n",
       "   {'reg_alpha': 0, 'reg_lambda': 0.3},\n",
       "   {'reg_alpha': 0, 'reg_lambda': 0.5},\n",
       "   {'reg_alpha': 0.001, 'reg_lambda': 0},\n",
       "   {'reg_alpha': 0.001, 'reg_lambda': 0.001},\n",
       "   {'reg_alpha': 0.001, 'reg_lambda': 0.01},\n",
       "   {'reg_alpha': 0.001, 'reg_lambda': 0.03},\n",
       "   {'reg_alpha': 0.001, 'reg_lambda': 0.08},\n",
       "   {'reg_alpha': 0.001, 'reg_lambda': 0.3},\n",
       "   {'reg_alpha': 0.001, 'reg_lambda': 0.5},\n",
       "   {'reg_alpha': 0.01, 'reg_lambda': 0},\n",
       "   {'reg_alpha': 0.01, 'reg_lambda': 0.001},\n",
       "   {'reg_alpha': 0.01, 'reg_lambda': 0.01},\n",
       "   {'reg_alpha': 0.01, 'reg_lambda': 0.03},\n",
       "   {'reg_alpha': 0.01, 'reg_lambda': 0.08},\n",
       "   {'reg_alpha': 0.01, 'reg_lambda': 0.3},\n",
       "   {'reg_alpha': 0.01, 'reg_lambda': 0.5},\n",
       "   {'reg_alpha': 0.03, 'reg_lambda': 0},\n",
       "   {'reg_alpha': 0.03, 'reg_lambda': 0.001},\n",
       "   {'reg_alpha': 0.03, 'reg_lambda': 0.01},\n",
       "   {'reg_alpha': 0.03, 'reg_lambda': 0.03},\n",
       "   {'reg_alpha': 0.03, 'reg_lambda': 0.08},\n",
       "   {'reg_alpha': 0.03, 'reg_lambda': 0.3},\n",
       "   {'reg_alpha': 0.03, 'reg_lambda': 0.5},\n",
       "   {'reg_alpha': 0.08, 'reg_lambda': 0},\n",
       "   {'reg_alpha': 0.08, 'reg_lambda': 0.001},\n",
       "   {'reg_alpha': 0.08, 'reg_lambda': 0.01},\n",
       "   {'reg_alpha': 0.08, 'reg_lambda': 0.03},\n",
       "   {'reg_alpha': 0.08, 'reg_lambda': 0.08},\n",
       "   {'reg_alpha': 0.08, 'reg_lambda': 0.3},\n",
       "   {'reg_alpha': 0.08, 'reg_lambda': 0.5},\n",
       "   {'reg_alpha': 0.3, 'reg_lambda': 0},\n",
       "   {'reg_alpha': 0.3, 'reg_lambda': 0.001},\n",
       "   {'reg_alpha': 0.3, 'reg_lambda': 0.01},\n",
       "   {'reg_alpha': 0.3, 'reg_lambda': 0.03},\n",
       "   {'reg_alpha': 0.3, 'reg_lambda': 0.08},\n",
       "   {'reg_alpha': 0.3, 'reg_lambda': 0.3},\n",
       "   {'reg_alpha': 0.3, 'reg_lambda': 0.5},\n",
       "   {'reg_alpha': 0.5, 'reg_lambda': 0},\n",
       "   {'reg_alpha': 0.5, 'reg_lambda': 0.001},\n",
       "   {'reg_alpha': 0.5, 'reg_lambda': 0.01},\n",
       "   {'reg_alpha': 0.5, 'reg_lambda': 0.03},\n",
       "   {'reg_alpha': 0.5, 'reg_lambda': 0.08},\n",
       "   {'reg_alpha': 0.5, 'reg_lambda': 0.3},\n",
       "   {'reg_alpha': 0.5, 'reg_lambda': 0.5}],\n",
       "  'split0_test_score': array([-9.61839873, -9.61736139, -9.6079322 , -9.63017122, -9.61184509,\n",
       "         -9.58139372, -9.59369836, -9.62938283, -9.62936783, -9.61143585,\n",
       "         -9.62506901, -9.62864837, -9.59560468, -9.59449877, -9.59735002,\n",
       "         -9.58033803, -9.61280755, -9.60625639, -9.6241652 , -9.60215728,\n",
       "         -9.5818717 , -9.61992342, -9.6245066 , -9.62941402, -9.65248851,\n",
       "         -9.57186889, -9.57171032, -9.58720374, -9.58830125, -9.60255616,\n",
       "         -9.60889433, -9.62531504, -9.57870316, -9.57395882, -9.62410446,\n",
       "         -9.59315836, -9.59315088, -9.59928468, -9.59453276, -9.60091899,\n",
       "         -9.5812838 , -9.61448675, -9.6236731 , -9.6228477 , -9.6051834 ,\n",
       "         -9.58813979, -9.56483303, -9.57054007, -9.59609019]),\n",
       "  'split1_test_score': array([-10.89817258, -10.91755828, -10.86688226, -10.85771018,\n",
       "         -10.90123418, -10.84110724, -10.83379373, -10.85956572,\n",
       "         -10.8595307 , -10.86805727, -10.872503  , -10.89024009,\n",
       "         -10.89977887, -10.87753901, -10.94407286, -10.95187583,\n",
       "         -10.91765799, -10.90740451, -10.89104447, -10.84891892,\n",
       "         -10.85031679, -10.83965442, -10.85104469, -10.86728517,\n",
       "         -10.84028503, -10.88943724, -10.86439948, -10.87082839,\n",
       "         -10.82194641, -10.82375277, -10.84933305, -10.8356453 ,\n",
       "         -10.83293672, -10.83958773, -10.87103333, -10.81527973,\n",
       "         -10.81872352, -10.85692157, -10.87292739, -10.87414545,\n",
       "         -10.83856689, -10.80357209, -10.82863304, -10.82859795,\n",
       "         -10.78527646, -10.77432237, -10.77976323, -10.80948531,\n",
       "         -10.8508006 ]),\n",
       "  'split2_test_score': array([-7.67025842, -7.64057947, -7.64074799, -7.62445661, -7.63351547,\n",
       "         -7.67533519, -7.67109264, -7.64057768, -7.64060127, -7.63382015,\n",
       "         -7.63765777, -7.63351331, -7.68281798, -7.66687549, -7.64185408,\n",
       "         -7.64787084, -7.67072999, -7.65679791, -7.64045661, -7.66984958,\n",
       "         -7.69269566, -7.65711591, -7.65132312, -7.64064899, -7.64045538,\n",
       "         -7.65564238, -7.70070263, -7.64913676, -7.66727754, -7.66727685,\n",
       "         -7.67147681, -7.6808734 , -7.69587302, -7.65280994, -7.70066765,\n",
       "         -7.66773986, -7.69722485, -7.69439949, -7.69787568, -7.68893704,\n",
       "         -7.68453026, -7.68519315, -7.72286101, -7.72285949, -7.72020431,\n",
       "         -7.67232884, -7.68689536, -7.68422671, -7.66495383]),\n",
       "  'split3_test_score': array([-7.63379421, -7.66083106, -7.60635031, -7.66954262, -7.66080921,\n",
       "         -7.66165217, -7.63382207, -7.67546542, -7.65129481, -7.61365   ,\n",
       "         -7.6506558 , -7.65857487, -7.66165392, -7.63382376, -7.61963699,\n",
       "         -7.61964261, -7.63485977, -7.66201637, -7.64820346, -7.63033028,\n",
       "         -7.61798418, -7.64943521, -7.64746647, -7.66074385, -7.6841104 ,\n",
       "         -7.64164117, -7.64522867, -7.61742151, -7.64325992, -7.64010979,\n",
       "         -7.64292563, -7.65806698, -7.63190881, -7.66588211, -7.64270978,\n",
       "         -7.63887573, -7.63888186, -7.65085227, -7.62847979, -7.64595408,\n",
       "         -7.64844643, -7.62930864, -7.6187811 , -7.62170629, -7.67039309,\n",
       "         -7.66910838, -7.62451555, -7.63354298, -7.58971269]),\n",
       "  'split4_test_score': array([-11.2875358 , -11.28253416, -11.33351107, -11.3077025 ,\n",
       "         -11.32984411, -11.27172916, -11.23326058, -11.29128159,\n",
       "         -11.32859944, -11.28769328, -11.30849726, -11.32902385,\n",
       "         -11.25668376, -11.25846696, -11.30718848, -11.30719145,\n",
       "         -11.29960174, -11.31339907, -11.35069164, -11.2735367 ,\n",
       "         -11.24935652, -11.30263725, -11.30263935, -11.29414369,\n",
       "         -11.30130908, -11.29031374, -11.28843489, -11.25791615,\n",
       "         -11.31590454, -11.31590616, -11.27224655, -11.31549752,\n",
       "         -11.296368  , -11.26397114, -11.2528812 , -11.26491718,\n",
       "         -11.27525166, -11.28551006, -11.26599701, -11.3011713 ,\n",
       "         -11.25468386, -11.28173132, -11.2417344 , -11.26184909,\n",
       "         -11.2340954 , -11.26190294, -11.27621417, -11.26842463,\n",
       "         -11.28651717]),\n",
       "  'mean_test_score': array([-9.42160515, -9.42373998, -9.41104436, -9.41786808, -9.42740301,\n",
       "         -9.40620199, -9.39310573, -9.41921063, -9.42183207, -9.40289853,\n",
       "         -9.4188349 , -9.42795492, -9.41928047, -9.4062134 , -9.42199207,\n",
       "         -9.42135489, -9.42710387, -9.42913466, -9.43086522, -9.4049263 ,\n",
       "         -9.39842078, -9.41371048, -9.41535508, -9.41840664, -9.42368232,\n",
       "         -9.4097421 , -9.41405899, -9.39647304, -9.40728833, -9.4098736 ,\n",
       "         -9.4089419 , -9.42303591, -9.40711882, -9.39919685, -9.41825902,\n",
       "         -9.39595579, -9.40461056, -9.41735874, -9.4119383 , -9.42219013,\n",
       "         -9.40146788, -9.40282223, -9.40712065, -9.41155136, -9.40299674,\n",
       "         -9.39311079, -9.38640038, -9.3932043 , -9.39758709]),\n",
       "  'std_test_score': array([1.54666813, 1.54974768, 1.56470125, 1.54657655, 1.55956072,\n",
       "         1.52354612, 1.52047434, 1.537824  , 1.55242068, 1.55372937,\n",
       "         1.55063326, 1.55821087, 1.52973904, 1.53587593, 1.5694332 ,\n",
       "         1.5692254 , 1.55281821, 1.55098659, 1.56430748, 1.53441114,\n",
       "         1.52602406, 1.5387553 , 1.54277182, 1.54329517, 1.5354124 ,\n",
       "         1.54610163, 1.5298767 , 1.54208083, 1.53706159, 1.53846444,\n",
       "         1.5310746 , 1.53392465, 1.5302221 , 1.5253696 , 1.52435231,\n",
       "         1.52427885, 1.52079643, 1.52847879, 1.53106421, 1.53795422,\n",
       "         1.51984987, 1.52507901, 1.51425864, 1.51842264, 1.49230991,\n",
       "         1.50785623, 1.51879641, 1.52101   , 1.54830327]),\n",
       "  'rank_test_score': array([38, 44, 24, 31, 46, 16,  2, 35, 39, 12, 34, 47, 36, 17, 40, 37, 45,\n",
       "         48, 49, 15,  8, 27, 29, 33, 43, 22, 28,  6, 20, 23, 21, 42, 18,  9,\n",
       "         32,  5, 14, 30, 26, 41, 10, 11, 19, 25, 13,  3,  1,  4,  7]),\n",
       "  'split0_train_score': array([-3.82575512, -3.81541126, -3.82447331, -3.81465823, -3.83150571,\n",
       "         -3.84007392, -3.84227936, -3.82567496, -3.82574311, -3.82187044,\n",
       "         -3.815948  , -3.82838053, -3.83868557, -3.84677543, -3.82611706,\n",
       "         -3.81586064, -3.82355147, -3.83049888, -3.82888582, -3.84057448,\n",
       "         -3.85934705, -3.8213606 , -3.84502433, -3.83571449, -3.84090177,\n",
       "         -3.84049831, -3.83200804, -3.85270989, -3.82266756, -3.81149887,\n",
       "         -3.823323  , -3.82605813, -3.83479196, -3.83473567, -3.85411613,\n",
       "         -3.83169366, -3.83176371, -3.83823063, -3.83554807, -3.8283738 ,\n",
       "         -3.83918528, -3.8548173 , -3.82255195, -3.82223001, -3.82632559,\n",
       "         -3.82968774, -3.83545529, -3.82852463, -3.85249198]),\n",
       "  'split1_train_score': array([-3.90233327, -3.90188256, -3.90154535, -3.89301591, -3.90683414,\n",
       "         -3.91015411, -3.91772541, -3.8966463 , -3.896716  , -3.89240009,\n",
       "         -3.89710569, -3.89543204, -3.89957177, -3.91329928, -3.88889211,\n",
       "         -3.89019052, -3.89305888, -3.90115174, -3.90821298, -3.90418349,\n",
       "         -3.90255439, -3.89485645, -3.88255724, -3.90730626, -3.90037453,\n",
       "         -3.91057185, -3.89676777, -3.91142893, -3.8920715 , -3.88938509,\n",
       "         -3.89278991, -3.91034284, -3.89170953, -3.90592854, -3.92962582,\n",
       "         -3.91153105, -3.89857672, -3.90344305, -3.88861117, -3.90649282,\n",
       "         -3.90926206, -3.91980186, -3.90244744, -3.90251567, -3.89901711,\n",
       "         -3.8966585 , -3.89864124, -3.90939656, -3.92682828]),\n",
       "  'split2_train_score': array([-4.1593869 , -4.13954   , -4.16761181, -4.1541538 , -4.15817141,\n",
       "         -4.15980693, -4.19730137, -4.13951871, -4.1395629 , -4.14376526,\n",
       "         -4.15819251, -4.15822674, -4.16606849, -4.19111636, -4.15807832,\n",
       "         -4.14578328, -4.18354389, -4.15426397, -4.15979909, -4.17688039,\n",
       "         -4.18839597, -4.16615943, -4.15766912, -4.14387751, -4.14626596,\n",
       "         -4.16540338, -4.18381732, -4.18902261, -4.15698316, -4.1570593 ,\n",
       "         -4.14785331, -4.1428282 , -4.17648034, -4.17729899, -4.17764528,\n",
       "         -4.15371171, -4.14982868, -4.13362623, -4.15555834, -4.15542581,\n",
       "         -4.1662159 , -4.18277115, -4.14765089, -4.14772611, -4.16624534,\n",
       "         -4.15562951, -4.16092858, -4.17086187, -4.18867083]),\n",
       "  'split3_train_score': array([-4.19308951, -4.20430253, -4.18777026, -4.20246176, -4.20898942,\n",
       "         -4.20949681, -4.24737303, -4.17771366, -4.18876469, -4.18928548,\n",
       "         -4.19242519, -4.2098105 , -4.20955192, -4.24742744, -4.19847187,\n",
       "         -4.19854876, -4.18647104, -4.21115583, -4.19741344, -4.22128434,\n",
       "         -4.23325267, -4.19981078, -4.19161416, -4.19017842, -4.18411536,\n",
       "         -4.1991535 , -4.21043842, -4.23583243, -4.20525905, -4.19327821,\n",
       "         -4.19828615, -4.19000102, -4.19876448, -4.21445358, -4.22849813,\n",
       "         -4.21623717, -4.21631335, -4.2118115 , -4.22091686, -4.2092359 ,\n",
       "         -4.21669588, -4.21039601, -4.2117287 , -4.21272624, -4.20113662,\n",
       "         -4.20274496, -4.21120345, -4.23265454, -4.24989172]),\n",
       "  'split4_train_score': array([-3.90882939, -3.91496932, -3.90379312, -3.91698011, -3.89255977,\n",
       "         -3.91795925, -3.93524065, -3.90951145, -3.91287169, -3.89831099,\n",
       "         -3.90780615, -3.89404258, -3.94214953, -3.91172223, -3.90857258,\n",
       "         -3.9086428 , -3.92344384, -3.91189624, -3.91478693, -3.92002116,\n",
       "         -3.9204034 , -3.91205641, -3.91212641, -3.90565536, -3.91364508,\n",
       "         -3.90535129, -3.93403596, -3.92408638, -3.89961683, -3.89968678,\n",
       "         -3.89550934, -3.91825598, -3.91289224, -3.90431013, -3.94995178,\n",
       "         -3.91158767, -3.90858928, -3.91203485, -3.89966255, -3.90441307,\n",
       "         -3.91440708, -3.94741121, -3.92009494, -3.90927157, -3.91282489,\n",
       "         -3.89496081, -3.9008233 , -3.93414116, -3.93649885]),\n",
       "  'mean_train_score': array([-3.99787884, -3.99522113, -3.99703877, -3.99625396, -3.99961209,\n",
       "         -4.0074982 , -4.02798396, -3.98981301, -3.99273168, -3.98912645,\n",
       "         -3.99429551, -3.99717848, -4.01120546, -4.02206815, -3.99602639,\n",
       "         -3.9918052 , -4.00201383, -4.00179333, -4.00181965, -4.01258877,\n",
       "         -4.02079069, -3.99884873, -3.99779825, -3.99654641, -3.99706054,\n",
       "         -4.00419566, -4.0114135 , -4.02261605, -3.99531962, -3.99018165,\n",
       "         -3.99155235, -3.99749723, -4.00292771, -4.00734538, -4.02796743,\n",
       "         -4.00495225, -4.00101435, -3.99982925, -4.0000594 , -4.00078828,\n",
       "         -4.00915324, -4.02303951, -4.00089478, -3.99889392, -4.00110991,\n",
       "         -3.9959363 , -4.00141037, -4.01511575, -4.03087633]),\n",
       "  'std_train_score': array([0.14891434, 0.14968433, 0.15037702, 0.15321453, 0.15317155,\n",
       "         0.14800363, 0.1625081 , 0.14127146, 0.1438542 , 0.14802352,\n",
       "         0.15155969, 0.15532612, 0.14853807, 0.16376723, 0.15181575,\n",
       "         0.15142666, 0.15288614, 0.15141463, 0.14795773, 0.15521273,\n",
       "         0.15706884, 0.15377123, 0.14634434, 0.14233179, 0.13995974,\n",
       "         0.14787085, 0.15533914, 0.15753802, 0.15481447, 0.15451418,\n",
       "         0.15129326, 0.14243962, 0.15311307, 0.15650801, 0.14737558,\n",
       "         0.15115138, 0.15243425, 0.14556811, 0.15653891, 0.15183527,\n",
       "         0.15204395, 0.14511583, 0.15100659, 0.15258201, 0.15234641,\n",
       "         0.15229081, 0.15341417, 0.15756247, 0.15774722])},\n",
       " {'reg_alpha': 0.5, 'reg_lambda': 0.08},\n",
       " -9.386400380831402)"
      ]
     },
     "execution_count": 305,
     "metadata": {},
     "output_type": "execute_result"
    }
   ],
   "source": [
    "gsearch6.cv_results_, gsearch6.best_params_, gsearch6.best_score_"
   ]
  },
  {
   "cell_type": "code",
   "execution_count": 308,
   "metadata": {},
   "outputs": [
    {
     "name": "stdout",
     "output_type": "stream",
     "text": [
      "Fitting 5 folds for each of 8 candidates, totalling 40 fits\n"
     ]
    },
    {
     "name": "stderr",
     "output_type": "stream",
     "text": [
      "[Parallel(n_jobs=4)]: Using backend LokyBackend with 4 concurrent workers.\n",
      "[Parallel(n_jobs=4)]: Done  40 out of  40 | elapsed:  1.3min finished\n"
     ]
    },
    {
     "data": {
      "text/plain": [
       "({'mean_fit_time': array([5.94360957, 5.47433562, 5.35310512, 4.77999725, 5.66613784,\n",
       "         6.7588419 , 5.10665741, 3.29836974]),\n",
       "  'std_fit_time': array([0.17093302, 0.07057071, 0.31242476, 0.39792461, 0.54760554,\n",
       "         0.51215276, 0.42439934, 0.09671855]),\n",
       "  'mean_score_time': array([0.24677029, 0.26287665, 0.24231625, 0.27035418, 0.39675727,\n",
       "         0.49249759, 0.28082891, 0.15130754]),\n",
       "  'std_score_time': array([0.03982124, 0.02400728, 0.0378969 , 0.04603239, 0.08152246,\n",
       "         0.14099868, 0.0708526 , 0.03478971]),\n",
       "  'param_learning_rate': masked_array(data=[0.001, 0.005, 0.01, 0.03, 0.08, 0.1, 0.3, 0.5],\n",
       "               mask=[False, False, False, False, False, False, False, False],\n",
       "         fill_value='?',\n",
       "              dtype=object),\n",
       "  'params': [{'learning_rate': 0.001},\n",
       "   {'learning_rate': 0.005},\n",
       "   {'learning_rate': 0.01},\n",
       "   {'learning_rate': 0.03},\n",
       "   {'learning_rate': 0.08},\n",
       "   {'learning_rate': 0.1},\n",
       "   {'learning_rate': 0.3},\n",
       "   {'learning_rate': 0.5}],\n",
       "  'split0_test_score': array([-13.55353256,  -9.52296314,  -9.56483303, -10.03466187,\n",
       "         -10.57518796, -10.5054752 , -12.21385716, -13.35811967]),\n",
       "  'split1_test_score': array([-14.19896937, -10.54751427, -10.77976323, -12.15443449,\n",
       "         -13.81402079, -13.8202427 , -14.16923833, -17.55685715]),\n",
       "  'split2_test_score': array([-11.45034958,  -7.68612298,  -7.68689536,  -8.21959797,\n",
       "          -8.865434  ,  -8.9860291 , -10.34854552, -12.07603303]),\n",
       "  'split3_test_score': array([-12.47617969,  -7.68614761,  -7.62451555,  -8.08213831,\n",
       "          -8.22663502,  -8.55040757,  -9.89162502, -11.15836383]),\n",
       "  'split4_test_score': array([-13.51438411, -11.16441651, -11.27621417, -11.64212744,\n",
       "         -12.17532257, -11.75828767, -12.82491693, -15.55674031]),\n",
       "  'mean_test_score': array([-13.03871286,  -9.3213616 ,  -9.38640038, -10.02670493,\n",
       "         -10.73168419, -10.72447962, -11.89000142, -13.94162353]),\n",
       "  'std_test_score': array([0.96737982, 1.43426072, 1.51879641, 1.68419891, 2.0672622 ,\n",
       "         1.92104087, 1.58390164, 2.3343902 ]),\n",
       "  'rank_test_score': array([7, 1, 2, 3, 5, 4, 6, 8]),\n",
       "  'split0_train_score': array([-1.12537182e+01, -5.41477058e+00, -3.83545529e+00, -1.23216724e+00,\n",
       "         -9.22938067e-02, -3.76887543e-02, -5.51452834e-04, -5.01261948e-04]),\n",
       "  'split1_train_score': array([-1.11609381e+01, -5.39350284e+00, -3.89864124e+00, -1.29925637e+00,\n",
       "         -1.09373583e-01, -4.26640220e-02, -5.33676804e-04, -5.31124658e-04]),\n",
       "  'split2_train_score': array([-1.18289034e+01, -5.80623112e+00, -4.16092858e+00, -1.33624104e+00,\n",
       "         -9.99425282e-02, -3.93620853e-02, -5.78641061e-04, -4.94012020e-04]),\n",
       "  'split3_train_score': array([-1.16220624e+01, -5.85800997e+00, -4.21120345e+00, -1.37339352e+00,\n",
       "         -1.23037521e-01, -4.55743019e-02, -5.58777690e-04, -5.99172548e-04]),\n",
       "  'split4_train_score': array([-1.12384142e+01, -5.34271881e+00, -3.90082330e+00, -1.25519943e+00,\n",
       "         -1.10746213e-01, -3.93551371e-02, -8.15224611e-04, -5.45548418e-04]),\n",
       "  'mean_train_score': array([-1.14208073e+01, -5.56304666e+00, -4.00141037e+00, -1.29925152e+00,\n",
       "         -1.07078730e-01, -4.09288601e-02, -6.07554600e-04, -5.34223918e-04]),\n",
       "  'std_train_score': array([2.59138624e-01, 2.21547873e-01, 1.53414171e-01, 5.15871096e-02,\n",
       "         1.04203564e-02, 2.82915495e-03, 1.04830673e-04, 3.75756903e-05])},\n",
       " {'learning_rate': 0.005},\n",
       " -9.321361603115133)"
      ]
     },
     "execution_count": 308,
     "metadata": {},
     "output_type": "execute_result"
    }
   ],
   "source": [
    "params_test7={\n",
    "    'learning_rate': [0.001, 0.005, 0.01, 0.03, 0.08,0.1, 0.3, 0.5],\n",
    "}\n",
    "model_lgb =LGBMRegressor(objective='regression', \n",
    "                                       num_leaves=20, \n",
    "                                       n_estimators=1000,\n",
    "                                       max_bin=200, \n",
    "                                       bagging_fraction=0.8,\n",
    "                                       bagging_freq=5, \n",
    "                                       bagging_seed=7,\n",
    "                                       max_depth=5,\n",
    "                                       feature_fraction=0.6,\n",
    "                                       feature_fraction_seed=7,\n",
    "                                       min_child_samples=19,\n",
    "                                       min_child_weight=0.001,\n",
    "                                       reg_alpha=0.5,\n",
    "                                       reg_lambda=0.08,\n",
    "                                       verbose=-1, \n",
    "                                       )\n",
    "gsearch7 = GridSearchCV(estimator=model_lgb, param_grid=params_test7, scoring='neg_mean_squared_error', cv=5, verbose=1, n_jobs=4)\n",
    "gsearch7.fit(X, y)\n",
    "gsearch7.cv_results_, gsearch7.best_params_, gsearch7.best_score_"
   ]
  },
  {
   "cell_type": "code",
   "execution_count": 310,
   "metadata": {},
   "outputs": [
    {
     "name": "stdout",
     "output_type": "stream",
     "text": [
      "Fitting 5 folds for each of 5 candidates, totalling 25 fits\n"
     ]
    },
    {
     "name": "stderr",
     "output_type": "stream",
     "text": [
      "[Parallel(n_jobs=4)]: Using backend LokyBackend with 4 concurrent workers.\n",
      "[Parallel(n_jobs=4)]: Done  25 out of  25 | elapsed:  2.0min finished\n"
     ]
    },
    {
     "data": {
      "text/plain": [
       "({'mean_fit_time': array([ 5.73045092,  9.61928167, 13.88925571, 18.86039767, 22.06988721]),\n",
       "  'std_fit_time': array([0.20106802, 0.20133565, 0.29219299, 0.40950993, 2.12310149]),\n",
       "  'mean_score_time': array([0.30081697, 0.5308754 , 0.78771591, 1.10951843, 1.22081485]),\n",
       "  'std_score_time': array([0.06232203, 0.0726125 , 0.04764992, 0.0574432 , 0.31518659]),\n",
       "  'param_n_estimators': masked_array(data=[1000, 2000, 3000, 4000, 5000],\n",
       "               mask=[False, False, False, False, False],\n",
       "         fill_value='?',\n",
       "              dtype=object),\n",
       "  'params': [{'n_estimators': 1000},\n",
       "   {'n_estimators': 2000},\n",
       "   {'n_estimators': 3000},\n",
       "   {'n_estimators': 4000},\n",
       "   {'n_estimators': 5000}],\n",
       "  'split0_test_score': array([-9.52296314, -9.5706656 , -9.67731483, -9.74202285, -9.84619727]),\n",
       "  'split1_test_score': array([-10.54751427, -11.01333455, -11.26090938, -11.43696118,\n",
       "         -11.58944046]),\n",
       "  'split2_test_score': array([-7.68612298, -7.74591786, -7.84054556, -7.9253013 , -8.020745  ]),\n",
       "  'split3_test_score': array([-7.68614761, -7.64054606, -7.69027359, -7.75298283, -7.82427168]),\n",
       "  'split4_test_score': array([-11.16441651, -11.17809444, -11.25744716, -11.3491487 ,\n",
       "         -11.39360521]),\n",
       "  'mean_test_score': array([-9.3213616 , -9.4297257 , -9.54534715, -9.64134531, -9.73493838]),\n",
       "  'std_test_score': array([1.43426072, 1.52434144, 1.56441473, 1.59117887, 1.5993519 ]),\n",
       "  'rank_test_score': array([1, 2, 3, 4, 5]),\n",
       "  'split0_train_score': array([-5.41477058, -3.82427126, -2.78572698, -2.05948796, -1.52667176]),\n",
       "  'split1_train_score': array([-5.39350284, -3.88622356, -2.88591353, -2.17949239, -1.64804605]),\n",
       "  'split2_train_score': array([-5.80623112, -4.13673626, -3.03442596, -2.27476098, -1.71140863]),\n",
       "  'split3_train_score': array([-5.85800997, -4.22325965, -3.13571273, -2.34469881, -1.76902473]),\n",
       "  'split4_train_score': array([-5.34271881, -3.84536152, -2.85580368, -2.13327747, -1.61158034]),\n",
       "  'mean_train_score': array([-5.56304666, -3.98317045, -2.93951658, -2.19834352, -1.6533463 ]),\n",
       "  'std_train_score': array([0.22154787, 0.16423412, 0.12730522, 0.10112302, 0.08315247])},\n",
       " {'n_estimators': 1000},\n",
       " -9.321361603115133)"
      ]
     },
     "execution_count": 310,
     "metadata": {},
     "output_type": "execute_result"
    }
   ],
   "source": [
    "params_test8={\n",
    "    'n_estimators': [1000, 2000, 3000, 4000, 5000],\n",
    "}\n",
    "model_lgb =LGBMRegressor(objective='regression', \n",
    "                                       num_leaves=20, \n",
    "                                       learning_rate=0.005,\n",
    "                                       max_bin=200, \n",
    "                                       bagging_fraction=0.8,\n",
    "                                       bagging_freq=5, \n",
    "                                       bagging_seed=7,\n",
    "                                       max_depth=5,\n",
    "                                       feature_fraction=0.6,\n",
    "                                       feature_fraction_seed=7,\n",
    "                                       min_child_samples=19,\n",
    "                                       min_child_weight=0.001,\n",
    "                                       reg_alpha=0.5,\n",
    "                                       reg_lambda=0.08,\n",
    "                                       verbose=-1, \n",
    "                                       )\n",
    "gsearch8 = GridSearchCV(estimator=model_lgb, param_grid=params_test8, scoring='neg_mean_squared_error', cv=5, verbose=1, n_jobs=4)\n",
    "gsearch8.fit(X, y)\n",
    "gsearch8.cv_results_, gsearch8.best_params_, gsearch8.best_score_"
   ]
  },
  {
   "cell_type": "code",
   "execution_count": 35,
   "metadata": {},
   "outputs": [],
   "source": [
    "model_lgb =LGBMRegressor(objective='regression', \n",
    "                                       num_leaves=20, \n",
    "                                       n_estimators=1000,\n",
    "                                       learning_rate=0.005,\n",
    "                                       max_bin=200, \n",
    "                                       bagging_fraction=0.8,\n",
    "                                       bagging_freq=5, \n",
    "                                       bagging_seed=7,\n",
    "                                       max_depth=5,\n",
    "                                       feature_fraction=0.6,\n",
    "                                       feature_fraction_seed=7,\n",
    "                                       min_child_samples=19,\n",
    "                                       min_child_weight=0.001,\n",
    "                                       reg_alpha=0.5,\n",
    "                                       reg_lambda=0.08,\n",
    "                                       verbose=-1, \n",
    "                                       )"
   ]
  },
  {
   "cell_type": "code",
   "execution_count": 363,
   "metadata": {},
   "outputs": [
    {
     "name": "stdout",
     "output_type": "stream",
     "text": [
      "lightgbm: 2.9940 (0.2159)\n",
      " 2019-04-22 09:36:56.846365\n"
     ]
    }
   ],
   "source": [
    "score = cv_rmse(model_lgb)\n",
    "print(\"lightgbm: {:.4f} ({:.4f})\\n\".format(score.mean(), score.std()), datetime.now(), )"
   ]
  },
  {
   "cell_type": "code",
   "execution_count": 381,
   "metadata": {},
   "outputs": [
    {
     "name": "stdout",
     "output_type": "stream",
     "text": [
      "lightgbm\n"
     ]
    }
   ],
   "source": [
    "print('lightgbm')\n",
    "lgb_model_full_data = model_lgb.fit(X, y)"
   ]
  },
  {
   "cell_type": "code",
   "execution_count": 382,
   "metadata": {},
   "outputs": [],
   "source": [
    "y_lightgbm=lgb_model_full_data.predict(X)"
   ]
  },
  {
   "cell_type": "code",
   "execution_count": 383,
   "metadata": {},
   "outputs": [
    {
     "name": "stdout",
     "output_type": "stream",
     "text": [
      "2.4253672415585097\n"
     ]
    }
   ],
   "source": [
    "print(rmsle(y, y_lightgbm))"
   ]
  },
  {
   "cell_type": "code",
   "execution_count": 384,
   "metadata": {},
   "outputs": [
    {
     "name": "stdout",
     "output_type": "stream",
     "text": [
      "Fitting 5 folds for each of 5 candidates, totalling 25 fits\n"
     ]
    },
    {
     "name": "stderr",
     "output_type": "stream",
     "text": [
      "[Parallel(n_jobs=4)]: Using backend LokyBackend with 4 concurrent workers.\n",
      "[Parallel(n_jobs=4)]: Done  25 out of  25 | elapsed:  6.7min finished\n"
     ]
    },
    {
     "data": {
      "text/plain": [
       "({'mean_fit_time': array([17.92060499, 38.45710115, 58.13859282, 78.77021866, 91.58375282]),\n",
       "  'std_fit_time': array([ 0.08343132,  0.38075818,  0.4536984 ,  0.48847265, 14.19122076]),\n",
       "  'mean_score_time': array([0.03256631, 0.04771805, 0.04266963, 0.05785985, 0.08598127]),\n",
       "  'std_score_time': array([0.01592389, 0.01281061, 0.00586242, 0.00801462, 0.02320836]),\n",
       "  'param_n_estimators': masked_array(data=[500, 1000, 1500, 2000, 2500],\n",
       "               mask=[False, False, False, False, False],\n",
       "         fill_value='?',\n",
       "              dtype=object),\n",
       "  'params': [{'n_estimators': 500},\n",
       "   {'n_estimators': 1000},\n",
       "   {'n_estimators': 1500},\n",
       "   {'n_estimators': 2000},\n",
       "   {'n_estimators': 2500}],\n",
       "  'split0_test_score': array([-10.01664864,  -9.79510047,  -9.83252112,  -9.91978883,\n",
       "          -9.99562965]),\n",
       "  'split1_test_score': array([-13.66954755, -13.05656422, -13.43958337, -13.77977492,\n",
       "         -13.94814824]),\n",
       "  'split2_test_score': array([-7.94484075, -8.13899831, -8.23611646, -8.29746364, -8.37719923]),\n",
       "  'split3_test_score': array([-8.99473987, -7.99654606, -8.01894096, -8.06807504, -8.11825464]),\n",
       "  'split4_test_score': array([-12.94083841, -11.84096062, -11.75889934, -11.81409048,\n",
       "         -11.85478456]),\n",
       "  'mean_test_score': array([-10.71308413, -10.16550687, -10.25706661, -10.37568219,\n",
       "         -10.45864442]),\n",
       "  'std_test_score': array([2.22696166, 2.00534407, 2.08088833, 2.1679964 , 2.19736893]),\n",
       "  'rank_test_score': array([5, 1, 2, 3, 4]),\n",
       "  'split0_train_score': array([-6.04747616, -3.39679981, -2.1180061 , -1.35334198, -0.87145188]),\n",
       "  'split1_train_score': array([-5.97076152, -3.35788704, -2.11910643, -1.36323001, -0.86546411]),\n",
       "  'split2_train_score': array([-6.25071163, -3.49802007, -2.18227734, -1.38822265, -0.89380806]),\n",
       "  'split3_train_score': array([-6.29685265, -3.57222754, -2.25679001, -1.44271132, -0.93564174]),\n",
       "  'split4_train_score': array([-5.73591065, -3.23666389, -2.04368605, -1.31986659, -0.84293142]),\n",
       "  'mean_train_score': array([-6.06034252, -3.41231967, -2.14397319, -1.37347451, -0.88185944]),\n",
       "  'std_train_score': array([0.20279239, 0.11573575, 0.07147726, 0.04097639, 0.03139369])},\n",
       " {'n_estimators': 1000},\n",
       " -10.165506867078456)"
      ]
     },
     "execution_count": 384,
     "metadata": {},
     "output_type": "execute_result"
    }
   ],
   "source": [
    "params_test1={\n",
    "    'n_estimators': [500, 1000,1500,2000, 2500],\n",
    "}\n",
    "model_xgboost = XGBRegressor(learning_rate=0.01,\n",
    "                                     max_depth=5, min_child_weight=0,\n",
    "                                     gamma=0, subsample=0.7,\n",
    "                                     colsample_bytree=0.7,\n",
    "                                     objective='reg:linear', nthread=-1,\n",
    "                                     scale_pos_weight=1, seed=27,\n",
    "                                     reg_alpha=0.00006)\n",
    "gsearch1 = GridSearchCV(estimator=model_xgboost, param_grid=params_test1, scoring='neg_mean_squared_error', cv=5, verbose=1, n_jobs=4)\n",
    "gsearch1.fit(X, y)\n",
    "gsearch1.cv_results_, gsearch1.best_params_, gsearch1.best_score_"
   ]
  },
  {
   "cell_type": "code",
   "execution_count": 386,
   "metadata": {},
   "outputs": [
    {
     "name": "stdout",
     "output_type": "stream",
     "text": [
      "Fitting 5 folds for each of 25 candidates, totalling 125 fits\n"
     ]
    },
    {
     "name": "stderr",
     "output_type": "stream",
     "text": [
      "[Parallel(n_jobs=4)]: Using backend LokyBackend with 4 concurrent workers.\n",
      "[Parallel(n_jobs=4)]: Done  42 tasks      | elapsed:  5.2min\n",
      "[Parallel(n_jobs=4)]: Done 125 out of 125 | elapsed: 22.5min finished\n"
     ]
    },
    {
     "data": {
      "text/plain": [
       "({'mean_fit_time': array([23.27940211, 23.41858573, 23.16544952, 35.87004895, 22.9552084 ,\n",
       "         31.83191013, 31.62745991, 31.91632943, 31.44096189, 32.60634089,\n",
       "         42.79567251, 38.93409314, 35.52608118, 35.3941175 , 36.42361245,\n",
       "         54.58114123, 52.04291587, 53.23923054, 52.75665903, 48.64634323,\n",
       "         69.29420176, 70.19289212, 68.21865931, 65.1886682 , 53.97240653]),\n",
       "  'std_fit_time': array([ 0.24393868,  0.12105342,  0.08985114,  6.37321802,  0.65578335,\n",
       "          0.97190271,  0.35938564,  0.6115379 ,  0.71528231,  0.66550215,\n",
       "          0.95171362,  1.3423264 ,  0.1928401 ,  0.39939488,  0.4259401 ,\n",
       "          2.58900649,  1.07854918,  1.13572933,  0.5945989 ,  2.13839523,\n",
       "          1.23865478,  7.06928384,  2.62453387,  0.57972302, 14.54435761]),\n",
       "  'mean_score_time': array([0.04495845, 0.04470801, 0.0420258 , 0.02737813, 0.03889093,\n",
       "         0.039289  , 0.05272293, 0.05211329, 0.0336493 , 0.04099665,\n",
       "         0.04483581, 0.04505196, 0.03322444, 0.03924465, 0.03946109,\n",
       "         0.04216094, 0.04549465, 0.05197906, 0.04893599, 0.03791771,\n",
       "         0.05248208, 0.058676  , 0.07013788, 0.05269666, 0.03902969]),\n",
       "  'std_score_time': array([0.0158899 , 0.01689447, 0.00935749, 0.00549888, 0.02040273,\n",
       "         0.00736943, 0.01966951, 0.02130657, 0.00431068, 0.01517121,\n",
       "         0.01539934, 0.01378298, 0.0045023 , 0.00930672, 0.00521463,\n",
       "         0.00622649, 0.0104669 , 0.01691069, 0.0228775 , 0.00390496,\n",
       "         0.00402289, 0.01504735, 0.02690618, 0.01103405, 0.00578964]),\n",
       "  'param_max_depth': masked_array(data=[3, 3, 3, 3, 3, 4, 4, 4, 4, 4, 5, 5, 5, 5, 5, 7, 7, 7,\n",
       "                     7, 7, 9, 9, 9, 9, 9],\n",
       "               mask=[False, False, False, False, False, False, False, False,\n",
       "                     False, False, False, False, False, False, False, False,\n",
       "                     False, False, False, False, False, False, False, False,\n",
       "                     False],\n",
       "         fill_value='?',\n",
       "              dtype=object),\n",
       "  'param_min_child_weight': masked_array(data=[1, 3, 4, 5, 6, 1, 3, 4, 5, 6, 1, 3, 4, 5, 6, 1, 3, 4,\n",
       "                     5, 6, 1, 3, 4, 5, 6],\n",
       "               mask=[False, False, False, False, False, False, False, False,\n",
       "                     False, False, False, False, False, False, False, False,\n",
       "                     False, False, False, False, False, False, False, False,\n",
       "                     False],\n",
       "         fill_value='?',\n",
       "              dtype=object),\n",
       "  'params': [{'max_depth': 3, 'min_child_weight': 1},\n",
       "   {'max_depth': 3, 'min_child_weight': 3},\n",
       "   {'max_depth': 3, 'min_child_weight': 4},\n",
       "   {'max_depth': 3, 'min_child_weight': 5},\n",
       "   {'max_depth': 3, 'min_child_weight': 6},\n",
       "   {'max_depth': 4, 'min_child_weight': 1},\n",
       "   {'max_depth': 4, 'min_child_weight': 3},\n",
       "   {'max_depth': 4, 'min_child_weight': 4},\n",
       "   {'max_depth': 4, 'min_child_weight': 5},\n",
       "   {'max_depth': 4, 'min_child_weight': 6},\n",
       "   {'max_depth': 5, 'min_child_weight': 1},\n",
       "   {'max_depth': 5, 'min_child_weight': 3},\n",
       "   {'max_depth': 5, 'min_child_weight': 4},\n",
       "   {'max_depth': 5, 'min_child_weight': 5},\n",
       "   {'max_depth': 5, 'min_child_weight': 6},\n",
       "   {'max_depth': 7, 'min_child_weight': 1},\n",
       "   {'max_depth': 7, 'min_child_weight': 3},\n",
       "   {'max_depth': 7, 'min_child_weight': 4},\n",
       "   {'max_depth': 7, 'min_child_weight': 5},\n",
       "   {'max_depth': 7, 'min_child_weight': 6},\n",
       "   {'max_depth': 9, 'min_child_weight': 1},\n",
       "   {'max_depth': 9, 'min_child_weight': 3},\n",
       "   {'max_depth': 9, 'min_child_weight': 4},\n",
       "   {'max_depth': 9, 'min_child_weight': 5},\n",
       "   {'max_depth': 9, 'min_child_weight': 6}],\n",
       "  'split0_test_score': array([-9.74005756, -9.75203266, -9.76060214, -9.7324856 , -9.76128259,\n",
       "         -9.7008819 , -9.66922976, -9.69794155, -9.68591377, -9.68872307,\n",
       "         -9.70674316, -9.71635464, -9.71450655, -9.66914948, -9.70848258,\n",
       "         -9.68765398, -9.79258425, -9.78567753, -9.71331628, -9.80687082,\n",
       "         -9.74366904, -9.7417645 , -9.80479576, -9.75710274, -9.83780918]),\n",
       "  'split1_test_score': array([-11.82734804, -11.55912725, -11.40533096, -11.50244186,\n",
       "         -11.39737205, -12.36929099, -11.54836483, -11.36335699,\n",
       "         -11.33460568, -11.33297481, -12.83181133, -11.8618649 ,\n",
       "         -11.61564377, -11.61668282, -11.50801985, -13.472166  ,\n",
       "         -12.07472185, -11.97571819, -11.74498865, -11.76397108,\n",
       "         -13.67137143, -12.19929844, -12.02982379, -12.08350331,\n",
       "         -12.00204887]),\n",
       "  'split2_test_score': array([-8.01069244, -7.98551388, -7.97660914, -7.98967854, -7.97134463,\n",
       "         -8.11412239, -7.96639629, -7.99006415, -8.00088252, -7.95271507,\n",
       "         -8.14171776, -7.98094146, -7.9808506 , -7.99185298, -7.96215745,\n",
       "         -8.04039089, -8.00779253, -7.94983562, -7.98965783, -7.96802881,\n",
       "         -8.13501644, -7.95355986, -8.02388836, -8.00298527, -7.94410598]),\n",
       "  'split3_test_score': array([-7.94707924, -7.878156  , -7.84414182, -7.84258906, -7.84164439,\n",
       "         -7.99456861, -7.89363515, -7.89235349, -7.83195397, -7.85389164,\n",
       "         -7.97894239, -7.86026965, -7.88358169, -7.81493636, -7.8372666 ,\n",
       "         -8.09683975, -7.84706649, -7.87936561, -7.87275662, -7.84937045,\n",
       "         -8.08121885, -7.89502849, -7.95149455, -7.83532135, -7.91758547]),\n",
       "  'split4_test_score': array([-11.88156099, -11.79632327, -11.7857671 , -11.74749809,\n",
       "         -11.73083977, -11.85474269, -11.69431944, -11.61675612,\n",
       "         -11.55452171, -11.54423065, -11.84809951, -11.6710167 ,\n",
       "         -11.54508764, -11.54836785, -11.46413908, -11.9183917 ,\n",
       "         -11.67362935, -11.57941323, -11.63869781, -11.57710312,\n",
       "         -12.00555501, -11.55667406, -11.67067977, -11.56555489,\n",
       "         -11.51239602]),\n",
       "  'mean_test_score': array([ -9.8812992 ,  -9.79421614,  -9.75449233,  -9.76292819,\n",
       "          -9.74050381, -10.00661643,  -9.75435989,  -9.71208961,\n",
       "          -9.68157702,  -9.67451192, -10.10132747,  -9.81805458,\n",
       "          -9.74792259,  -9.72817765,  -9.69601739, -10.24289798,\n",
       "          -9.8791292 ,  -9.83398546,  -9.7918565 ,  -9.79307359,\n",
       "         -10.32716598,  -9.86922134,  -9.89610512,  -9.84886203,\n",
       "          -9.8427874 ]),\n",
       "  'std_test_score': array([1.73455196, 1.67708036, 1.6526951 , 1.66088765, 1.639394  ,\n",
       "         1.82841852, 1.65188294, 1.58915817, 1.58000012, 1.58249781,\n",
       "         1.94939934, 1.72184848, 1.63175038, 1.64643253, 1.60415546,\n",
       "         2.14443426, 1.77054587, 1.73212517, 1.6827201 , 1.68352593,\n",
       "         2.19923871, 1.78071819, 1.73157646, 1.75530125, 1.71792661]),\n",
       "  'rank_test_score': array([20, 13,  9, 10,  6, 22,  8,  4,  2,  1, 23, 14,  7,  5,  3, 24, 19,\n",
       "         15, 11, 12, 25, 18, 21, 17, 16]),\n",
       "  'split0_train_score': array([-6.24558944, -6.34404861, -6.36260108, -6.38955378, -6.40711748,\n",
       "         -4.77554591, -4.90786207, -4.95777945, -5.02129415, -5.0762954 ,\n",
       "         -3.3964142 , -3.54287085, -3.64081274, -3.71919648, -3.77666018,\n",
       "         -1.33846813, -1.51790695, -1.62650024, -1.73967607, -1.83871502,\n",
       "         -0.4221163 , -0.54548833, -0.62539378, -0.77145509, -0.87537205]),\n",
       "  'split1_train_score': array([-6.16101571, -6.23455913, -6.28197295, -6.29770328, -6.32836094,\n",
       "         -4.74563525, -4.84378629, -4.87371301, -4.92858843, -4.98558083,\n",
       "         -3.38692285, -3.49169355, -3.575137  , -3.67964403, -3.74741326,\n",
       "         -1.34609803, -1.48599903, -1.59426826, -1.7198409 , -1.87456018,\n",
       "         -0.41336694, -0.52144268, -0.62219561, -0.74111384, -0.85339207]),\n",
       "  'split2_train_score': array([-6.57827296, -6.68023834, -6.7174786 , -6.75048755, -6.75541471,\n",
       "         -4.98403966, -5.10931997, -5.15897164, -5.24145094, -5.31314197,\n",
       "         -3.49599043, -3.63173215, -3.72610769, -3.83681377, -3.95161661,\n",
       "         -1.35647044, -1.49459203, -1.626627  , -1.77554905, -1.90300054,\n",
       "         -0.40120573, -0.50879615, -0.61025233, -0.74542957, -0.87534326]),\n",
       "  'split3_train_score': array([-6.62308778, -6.71619949, -6.74642992, -6.78056003, -6.81107128,\n",
       "         -5.05539591, -5.16200572, -5.22813962, -5.30312926, -5.36693127,\n",
       "         -3.56515306, -3.70668812, -3.8410604 , -3.9351328 , -4.03897909,\n",
       "         -1.39342298, -1.6202371 , -1.72411382, -1.83708699, -2.00462713,\n",
       "         -0.43742348, -0.56917312, -0.67888368, -0.78919952, -0.91419457]),\n",
       "  'split4_train_score': array([-5.98320569, -6.0817737 , -6.1095484 , -6.13100323, -6.15335   ,\n",
       "         -4.55598491, -4.67050079, -4.74267171, -4.79215301, -4.8526524 ,\n",
       "         -3.23127508, -3.3528873 , -3.44820508, -3.53287318, -3.62722144,\n",
       "         -1.29178122, -1.43612585, -1.5473022 , -1.70809077, -1.82267677,\n",
       "         -0.3997119 , -0.50211801, -0.61891758, -0.73631329, -0.85306322]),\n",
       "  'mean_train_score': array([-6.31823432, -6.41136385, -6.44360619, -6.46986157, -6.49106288,\n",
       "         -4.82332033, -4.93869497, -4.99225509, -5.05732315, -5.11892038,\n",
       "         -3.41515112, -3.54517439, -3.64626458, -3.74073205, -3.82837812,\n",
       "         -1.34524816, -1.51097219, -1.62376231, -1.75604876, -1.88871593,\n",
       "         -0.41476487, -0.52940366, -0.63112859, -0.75670226, -0.87427303]),\n",
       "  'std_train_score': array([0.24608734, 0.24885304, 0.24939529, 0.25542015, 0.25292529,\n",
       "         0.17859192, 0.17936946, 0.17942607, 0.19105476, 0.19479548,\n",
       "         0.11313168, 0.12117653, 0.1331441 , 0.13742211, 0.14780701,\n",
       "         0.03271745, 0.06079614, 0.05796926, 0.04653278, 0.06434455,\n",
       "         0.01399895, 0.02479064, 0.02440558, 0.02029532, 0.02227982])},\n",
       " {'max_depth': 4, 'min_child_weight': 6},\n",
       " -9.674511924190607)"
      ]
     },
     "execution_count": 386,
     "metadata": {},
     "output_type": "execute_result"
    }
   ],
   "source": [
    "params_test2={\n",
    "    'max_depth': [3, 4,5, 7, 9], \n",
    "    'min_child_weight': [1, 3, 4, 5, 6],\n",
    "}\n",
    "model_xgboost = XGBRegressor(learning_rate=0.01,n_estimators=1000,\n",
    "                                     gamma=0, subsample=0.7,\n",
    "                                     colsample_bytree=0.7,\n",
    "                                     objective='reg:linear', nthread=-1,\n",
    "                                     scale_pos_weight=1, seed=27,\n",
    "                                     reg_alpha=0.00006)\n",
    "gsearch2 = GridSearchCV(estimator=model_xgboost, param_grid=params_test2, scoring='neg_mean_squared_error', cv=5, verbose=1, n_jobs=4)\n",
    "gsearch2.fit(X, y)\n",
    "gsearch2.cv_results_, gsearch2.best_params_, gsearch2.best_score_"
   ]
  },
  {
   "cell_type": "code",
   "execution_count": 388,
   "metadata": {},
   "outputs": [
    {
     "name": "stdout",
     "output_type": "stream",
     "text": [
      "Fitting 5 folds for each of 6 candidates, totalling 30 fits\n"
     ]
    },
    {
     "name": "stderr",
     "output_type": "stream",
     "text": [
      "[Parallel(n_jobs=4)]: Using backend LokyBackend with 4 concurrent workers.\n",
      "[Parallel(n_jobs=4)]: Done  30 out of  30 | elapsed:  3.9min finished\n"
     ]
    },
    {
     "data": {
      "text/plain": [
       "({'mean_fit_time': array([30.24954929, 30.72377858, 31.66464887, 30.71083794, 29.62952619,\n",
       "         26.04334064]),\n",
       "  'std_fit_time': array([2.44158513, 0.51403299, 0.37114794, 1.0250594 , 0.59456346,\n",
       "         3.38247279]),\n",
       "  'mean_score_time': array([0.04248667, 0.03187275, 0.03918777, 0.03424339, 0.03113518,\n",
       "         0.02690058]),\n",
       "  'std_score_time': array([0.00680115, 0.00934498, 0.00778694, 0.00312105, 0.00168435,\n",
       "         0.0062029 ]),\n",
       "  'param_gamma': masked_array(data=[0.1, 0.2, 0.3, 0.4, 0.5, 0.6],\n",
       "               mask=[False, False, False, False, False, False],\n",
       "         fill_value='?',\n",
       "              dtype=object),\n",
       "  'params': [{'gamma': 0.1},\n",
       "   {'gamma': 0.2},\n",
       "   {'gamma': 0.3},\n",
       "   {'gamma': 0.4},\n",
       "   {'gamma': 0.5},\n",
       "   {'gamma': 0.6}],\n",
       "  'split0_test_score': array([-9.68872307, -9.66676396, -9.66725443, -9.6835566 , -9.67941361,\n",
       "         -9.67612231]),\n",
       "  'split1_test_score': array([-11.33297481, -11.33297481, -11.33297481, -11.33297481,\n",
       "         -11.32319636, -11.38274271]),\n",
       "  'split2_test_score': array([-7.95271507, -7.95271507, -7.95363329, -7.94818656, -7.94818656,\n",
       "         -7.94344257]),\n",
       "  'split3_test_score': array([-7.85486424, -7.83411965, -7.83411965, -7.83411965, -7.83411965,\n",
       "         -7.83145233]),\n",
       "  'split4_test_score': array([-11.55750339, -11.5544705 , -11.56121453, -11.56234197,\n",
       "         -11.54545703, -11.55845385]),\n",
       "  'mean_test_score': array([-9.67736001, -9.6682083 , -9.66983845, -9.6722398 , -9.66607922,\n",
       "         -9.67844196]),\n",
       "  'std_test_score': array([1.5854153 , 1.58945899, 1.59086237, 1.59231602, 1.58626551,\n",
       "         1.60351329]),\n",
       "  'rank_test_score': array([5, 2, 3, 4, 1, 6]),\n",
       "  'split0_train_score': array([-5.0762954 , -5.0800584 , -5.06107341, -5.07292099, -5.07506476,\n",
       "         -5.07234675]),\n",
       "  'split1_train_score': array([-4.98558083, -4.98558083, -4.98558083, -4.98558083, -4.97338437,\n",
       "         -4.98397131]),\n",
       "  'split2_train_score': array([-5.31314197, -5.31314197, -5.31856496, -5.31903633, -5.31903633,\n",
       "         -5.31562999]),\n",
       "  'split3_train_score': array([-5.36583291, -5.35829361, -5.35829361, -5.35829361, -5.35829361,\n",
       "         -5.35713181]),\n",
       "  'split4_train_score': array([-4.85259454, -4.84838207, -4.8408956 , -4.84268583, -4.84809673,\n",
       "         -4.85171248]),\n",
       "  'mean_train_score': array([-5.11868913, -5.11709137, -5.11288168, -5.11570352, -5.11477516,\n",
       "         -5.11615847]),\n",
       "  'std_train_score': array([0.19453192, 0.19364168, 0.19768594, 0.19672067, 0.19682963,\n",
       "         0.19348469])},\n",
       " {'gamma': 0.5},\n",
       " -9.666079215069168)"
      ]
     },
     "execution_count": 388,
     "metadata": {},
     "output_type": "execute_result"
    }
   ],
   "source": [
    "params_test3={\n",
    "'gamma': [0.1, 0.2, 0.3, 0.4, 0.5, 0.6]\n",
    "}\n",
    "model_xgboost = XGBRegressor(learning_rate=0.01,n_estimators=1000,\n",
    "                                         max_depth=4,min_child_weight=6,\n",
    "                                     subsample=0.7,\n",
    "                                     colsample_bytree=0.7,\n",
    "                                     objective='reg:linear', nthread=-1,\n",
    "                                     scale_pos_weight=1, seed=27,\n",
    "                                     reg_alpha=0.00006)\n",
    "gsearch3 = GridSearchCV(estimator=model_xgboost, param_grid=params_test3, scoring='neg_mean_squared_error', cv=5, verbose=1, n_jobs=4)\n",
    "gsearch3.fit(X, y)\n",
    "gsearch3.cv_results_, gsearch3.best_params_, gsearch3.best_score_"
   ]
  },
  {
   "cell_type": "code",
   "execution_count": 390,
   "metadata": {},
   "outputs": [
    {
     "name": "stdout",
     "output_type": "stream",
     "text": [
      "Fitting 5 folds for each of 16 candidates, totalling 80 fits\n"
     ]
    },
    {
     "name": "stderr",
     "output_type": "stream",
     "text": [
      "[Parallel(n_jobs=4)]: Using backend LokyBackend with 4 concurrent workers.\n",
      "[Parallel(n_jobs=4)]: Done  42 tasks      | elapsed:  5.3min\n",
      "[Parallel(n_jobs=4)]: Done  80 out of  80 | elapsed: 11.1min finished\n"
     ]
    },
    {
     "data": {
      "text/plain": [
       "({'mean_fit_time': array([27.91506481, 27.13363333, 26.47814336, 25.04267349, 28.50241823,\n",
       "         29.56547103, 31.29028864, 31.25198021, 34.41773133, 36.03666315,\n",
       "         36.18692307, 34.856709  , 39.80844288, 40.91856475, 39.62755232,\n",
       "         38.94600549]),\n",
       "  'std_fit_time': array([0.51116529, 0.3164051 , 0.96305526, 0.47493764, 0.05148749,\n",
       "         1.04246295, 0.27166996, 0.25958192, 0.76057275, 0.10503756,\n",
       "         0.22275651, 0.91677635, 0.6014154 , 0.51281108, 0.74063863,\n",
       "         0.49485196]),\n",
       "  'mean_score_time': array([0.03083754, 0.04556384, 0.03518434, 0.03847713, 0.03568516,\n",
       "         0.03479657, 0.04175773, 0.04073758, 0.04188809, 0.0411675 ,\n",
       "         0.0408391 , 0.04311538, 0.04541559, 0.05093441, 0.04679689,\n",
       "         0.03390093]),\n",
       "  'std_score_time': array([0.00158922, 0.00941644, 0.01271233, 0.01160404, 0.00971746,\n",
       "         0.00471746, 0.0162634 , 0.01535399, 0.00818711, 0.0070508 ,\n",
       "         0.0065804 , 0.01500459, 0.01116841, 0.0089083 , 0.01629775,\n",
       "         0.00609084]),\n",
       "  'param_colsample_bytree': masked_array(data=[0.6, 0.6, 0.6, 0.6, 0.7, 0.7, 0.7, 0.7, 0.8, 0.8, 0.8,\n",
       "                     0.8, 0.9, 0.9, 0.9, 0.9],\n",
       "               mask=[False, False, False, False, False, False, False, False,\n",
       "                     False, False, False, False, False, False, False, False],\n",
       "         fill_value='?',\n",
       "              dtype=object),\n",
       "  'param_subsample': masked_array(data=[0.6, 0.7, 0.8, 0.9, 0.6, 0.7, 0.8, 0.9, 0.6, 0.7, 0.8,\n",
       "                     0.9, 0.6, 0.7, 0.8, 0.9],\n",
       "               mask=[False, False, False, False, False, False, False, False,\n",
       "                     False, False, False, False, False, False, False, False],\n",
       "         fill_value='?',\n",
       "              dtype=object),\n",
       "  'params': [{'colsample_bytree': 0.6, 'subsample': 0.6},\n",
       "   {'colsample_bytree': 0.6, 'subsample': 0.7},\n",
       "   {'colsample_bytree': 0.6, 'subsample': 0.8},\n",
       "   {'colsample_bytree': 0.6, 'subsample': 0.9},\n",
       "   {'colsample_bytree': 0.7, 'subsample': 0.6},\n",
       "   {'colsample_bytree': 0.7, 'subsample': 0.7},\n",
       "   {'colsample_bytree': 0.7, 'subsample': 0.8},\n",
       "   {'colsample_bytree': 0.7, 'subsample': 0.9},\n",
       "   {'colsample_bytree': 0.8, 'subsample': 0.6},\n",
       "   {'colsample_bytree': 0.8, 'subsample': 0.7},\n",
       "   {'colsample_bytree': 0.8, 'subsample': 0.8},\n",
       "   {'colsample_bytree': 0.8, 'subsample': 0.9},\n",
       "   {'colsample_bytree': 0.9, 'subsample': 0.6},\n",
       "   {'colsample_bytree': 0.9, 'subsample': 0.7},\n",
       "   {'colsample_bytree': 0.9, 'subsample': 0.8},\n",
       "   {'colsample_bytree': 0.9, 'subsample': 0.9}],\n",
       "  'split0_test_score': array([-9.64995812, -9.67678287, -9.73988641, -9.765195  , -9.66375847,\n",
       "         -9.67941361, -9.66713412, -9.71595344, -9.70086164, -9.65810496,\n",
       "         -9.69517071, -9.7575468 , -9.63211625, -9.70832584, -9.70365205,\n",
       "         -9.80129986]),\n",
       "  'split1_test_score': array([-11.43778248, -11.23114888, -11.38526133, -11.36993083,\n",
       "         -11.51825332, -11.32319636, -11.5837546 , -11.37729389,\n",
       "         -11.56414052, -11.59355029, -11.53068885, -11.52440037,\n",
       "         -11.58990621, -11.45901256, -11.4522341 , -11.45164   ]),\n",
       "  'split2_test_score': array([-8.03319748, -8.04368479, -8.07801498, -8.09427505, -7.92694347,\n",
       "         -7.94818656, -8.07152383, -7.98186094, -7.96673229, -7.97124047,\n",
       "         -7.95363204, -7.97646979, -7.91976187, -7.93364553, -7.90264567,\n",
       "         -7.92251037]),\n",
       "  'split3_test_score': array([-7.82443796, -7.88718267, -7.87629162, -7.90154829, -7.83594698,\n",
       "         -7.83411965, -7.78362767, -7.81995078, -7.8819917 , -7.81964926,\n",
       "         -7.8186354 , -7.8633545 , -7.82031213, -7.82034823, -7.79357047,\n",
       "         -7.86318056]),\n",
       "  'split4_test_score': array([-11.47542956, -11.62803038, -11.55308583, -11.74423931,\n",
       "         -11.45943414, -11.54545703, -11.54032552, -11.65076814,\n",
       "         -11.55223077, -11.56144685, -11.53299817, -11.61595936,\n",
       "         -11.67342911, -11.49470629, -11.56427485, -11.54689344]),\n",
       "  'mean_test_score': array([-9.68414939, -9.69336023, -9.72651262, -9.77503432, -9.68086141,\n",
       "         -9.66607922, -9.72925184, -9.70916777, -9.7331803 , -9.72077687,\n",
       "         -9.70622124, -9.74754959, -9.72707254, -9.6832163 , -9.68328242,\n",
       "         -9.71713372]),\n",
       "  'std_test_score': array([1.57892225, 1.55483617, 1.56362813, 1.59700264, 1.61338747,\n",
       "         1.58626551, 1.6280051 , 1.61868702, 1.62512239, 1.64740945,\n",
       "         1.63069962, 1.6328255 , 1.68313596, 1.61011853, 1.63736484,\n",
       "         1.61350417]),\n",
       "  'rank_test_score': array([ 5,  6, 11, 16,  2,  1, 13,  8, 14, 10,  7, 15, 12,  3,  4,  9]),\n",
       "  'split0_train_score': array([-5.10802066, -5.0845801 , -5.05633998, -5.02281031, -5.08727544,\n",
       "         -5.07506476, -5.00338888, -5.01079574, -4.98038575, -4.99494089,\n",
       "         -4.94444457, -4.98812368, -4.9701599 , -4.94474006, -4.8962821 ,\n",
       "         -4.95413264]),\n",
       "  'split1_train_score': array([-5.10295514, -5.03107279, -5.01285447, -5.06456848, -5.02291532,\n",
       "         -4.97338437, -4.96132756, -5.01224831, -4.97724221, -4.93753012,\n",
       "         -4.93213706, -4.93366742, -4.95353119, -4.89283628, -4.87620187,\n",
       "         -4.87208263]),\n",
       "  'split2_train_score': array([-5.43338809, -5.37705482, -5.32167565, -5.31167209, -5.37907061,\n",
       "         -5.31903633, -5.24920282, -5.26334806, -5.34538214, -5.28735584,\n",
       "         -5.23744102, -5.23522945, -5.29263834, -5.26037592, -5.20496219,\n",
       "         -5.19864486]),\n",
       "  'split3_train_score': array([-5.51982234, -5.45053208, -5.429069  , -5.42810483, -5.48199895,\n",
       "         -5.35829361, -5.36003991, -5.34986615, -5.40531409, -5.28266518,\n",
       "         -5.27353289, -5.31416687, -5.33971693, -5.23516826, -5.20895578,\n",
       "         -5.26220057]),\n",
       "  'split4_train_score': array([-4.95438042, -4.90455333, -4.82116014, -4.8502681 , -4.92218689,\n",
       "         -4.84809673, -4.80195732, -4.82221736, -4.87581021, -4.78739297,\n",
       "         -4.76412513, -4.79824931, -4.83113842, -4.76305194, -4.72355345,\n",
       "         -4.74881124]),\n",
       "  'mean_train_score': array([-5.22371333, -5.16955862, -5.12821985, -5.13548476, -5.17868944,\n",
       "         -5.11477516, -5.0751833 , -5.09169512, -5.11682688, -5.057977  ,\n",
       "         -5.03033613, -5.05388735, -5.07743695, -5.01923449, -4.98199108,\n",
       "         -5.00717439]),\n",
       "  'std_train_score': array([0.21547696, 0.20910678, 0.21940689, 0.20772177, 0.21473934,\n",
       "         0.19682963, 0.20208715, 0.19057376, 0.21524473, 0.19738093,\n",
       "         0.19489783, 0.19222845, 0.20130892, 0.19592448, 0.19316132,\n",
       "         0.19468643])},\n",
       " {'colsample_bytree': 0.7, 'subsample': 0.7},\n",
       " -9.666079215069168)"
      ]
     },
     "execution_count": 390,
     "metadata": {},
     "output_type": "execute_result"
    }
   ],
   "source": [
    "params_test4={\n",
    "'subsample': [0.6, 0.7, 0.8, 0.9], 'colsample_bytree': [0.6, 0.7, 0.8, 0.9]\n",
    "}\n",
    "model_xgboost = XGBRegressor(learning_rate=0.01,n_estimators=1000,\n",
    "                                     max_depth=4,min_child_weight=6,\n",
    "                                     gamma=0.5,\n",
    "                                     objective='reg:linear', nthread=-1,\n",
    "                                     scale_pos_weight=1, seed=27,\n",
    "                                     reg_alpha=0.00006)\n",
    "gsearch4 = GridSearchCV(estimator=model_xgboost, param_grid=params_test4, scoring='neg_mean_squared_error', cv=5, verbose=1, n_jobs=4)\n",
    "gsearch4.fit(X, y)\n",
    "gsearch4.cv_results_, gsearch4.best_params_, gsearch4.best_score_"
   ]
  },
  {
   "cell_type": "code",
   "execution_count": 395,
   "metadata": {},
   "outputs": [
    {
     "name": "stdout",
     "output_type": "stream",
     "text": [
      "Fitting 5 folds for each of 8 candidates, totalling 40 fits\n"
     ]
    },
    {
     "name": "stderr",
     "output_type": "stream",
     "text": [
      "[Parallel(n_jobs=4)]: Using backend LokyBackend with 4 concurrent workers.\n",
      "[Parallel(n_jobs=4)]: Done  40 out of  40 | elapsed:  4.8min finished\n"
     ]
    },
    {
     "data": {
      "text/plain": [
       "({'mean_fit_time': array([18.83543687, 27.77620234, 28.80284076, 29.96615791, 30.3772027 ,\n",
       "         30.13149381, 30.11964593, 28.01479468]),\n",
       "  'std_fit_time': array([0.7783087 , 0.43945765, 0.38593909, 0.11094339, 0.19415126,\n",
       "         0.16856857, 0.16334856, 1.84918053]),\n",
       "  'mean_score_time': array([0.029144  , 0.0378624 , 0.02664266, 0.02863846, 0.02821813,\n",
       "         0.03080735, 0.03277392, 0.02825708]),\n",
       "  'std_score_time': array([0.00319984, 0.0124348 , 0.0056887 , 0.00801428, 0.00309194,\n",
       "         0.00109259, 0.00531934, 0.01373374]),\n",
       "  'param_learning_rate': masked_array(data=[0.001, 0.005, 0.01, 0.03, 0.08, 0.1, 0.3, 0.5],\n",
       "               mask=[False, False, False, False, False, False, False, False],\n",
       "         fill_value='?',\n",
       "              dtype=object),\n",
       "  'params': [{'learning_rate': 0.001},\n",
       "   {'learning_rate': 0.005},\n",
       "   {'learning_rate': 0.01},\n",
       "   {'learning_rate': 0.03},\n",
       "   {'learning_rate': 0.08},\n",
       "   {'learning_rate': 0.1},\n",
       "   {'learning_rate': 0.3},\n",
       "   {'learning_rate': 0.5}],\n",
       "  'split0_test_score': array([-914.69534682,   -9.88851884,   -9.67941361,  -10.01279959,\n",
       "          -10.86739114,  -10.57115589,  -11.67042319,  -13.43636242]),\n",
       "  'split1_test_score': array([-928.40580647,  -11.87256788,  -11.32319636,  -12.64943209,\n",
       "          -13.16415664,  -13.67751997,  -13.70061754,  -17.75410817]),\n",
       "  'split2_test_score': array([-888.93037982,   -7.73481242,   -7.94818656,   -8.42750913,\n",
       "           -8.89758744,   -9.1306968 ,  -11.05695264,  -13.13755564]),\n",
       "  'split3_test_score': array([-1034.43417401,    -8.80191406,    -7.83411965,    -8.02153887,\n",
       "            -8.97511479,    -8.61970706,    -9.66875748,   -12.13172807]),\n",
       "  'split4_test_score': array([-1022.73960586,   -12.75092615,   -11.54545703,   -11.82982392,\n",
       "           -12.17213798,   -12.58073491,   -14.41985923,   -14.9632612 ]),\n",
       "  'mean_test_score': array([-957.8262664 ,  -10.20963771,   -9.66607922,  -10.18816056,\n",
       "          -10.81529547,  -10.91584468,  -12.10317356,  -14.28431221]),\n",
       "  'std_test_score': array([59.24890811,  1.86693575,  1.58626551,  1.82055916,  1.69822326,\n",
       "          1.94783044,  1.73909321,  1.95769268]),\n",
       "  'rank_test_score': array([8, 3, 1, 2, 4, 5, 6, 7]),\n",
       "  'split0_train_score': array([-9.60256366e+02, -7.34574331e+00, -5.07506476e+00, -1.86209378e+00,\n",
       "         -2.22813760e-01, -1.06463165e-01, -4.34190350e-02, -3.78065589e-02]),\n",
       "  'split1_train_score': array([-9.59301967e+02, -7.17122419e+00, -4.97338437e+00, -1.88805173e+00,\n",
       "         -2.22735324e-01, -1.10170418e-01, -4.20617546e-02, -3.73245335e-02]),\n",
       "  'split2_train_score': array([-9.61643220e+02, -7.70895533e+00, -5.31903633e+00, -1.98698334e+00,\n",
       "         -2.31153559e-01, -1.07306394e-01, -4.23177029e-02, -3.65340585e-02]),\n",
       "  'split3_train_score': array([-9.43359528e+02, -7.67888823e+00, -5.35829361e+00, -2.07576065e+00,\n",
       "         -2.62084208e-01, -1.22355507e-01, -4.37810389e-02, -3.87794663e-02]),\n",
       "  'split4_train_score': array([-9.46965723e+02, -7.01110200e+00, -4.84809673e+00, -1.83672075e+00,\n",
       "         -2.27474686e-01, -1.04562974e-01, -4.32996939e-02, -3.87766586e-02]),\n",
       "  'mean_train_score': array([-9.54305361e+02, -7.38318261e+00, -5.11477516e+00, -1.92992205e+00,\n",
       "         -2.33252308e-01, -1.10171691e-01, -4.29758451e-02, -3.78442552e-02]),\n",
       "  'std_train_score': array([7.58823115e+00, 2.75078801e-01, 1.96829629e-01, 8.89552335e-02,\n",
       "         1.47555708e-02, 6.35399350e-03, 6.66084830e-04, 8.63960990e-04])},\n",
       " {'learning_rate': 0.01},\n",
       " -9.666079215069168)"
      ]
     },
     "execution_count": 395,
     "metadata": {},
     "output_type": "execute_result"
    }
   ],
   "source": [
    "params_test5={\n",
    "'learning_rate': [0.001, 0.005, 0.01, 0.03, 0.08,0.1, 0.3, 0.5],\n",
    "}\n",
    "model_xgboost = XGBRegressor(n_estimators=1000,\n",
    "                                     max_depth=4,min_child_weight=6,\n",
    "                                     gamma=0.5,colsample_bytree=0.7,subsample=0.7,\n",
    "                                     objective='reg:linear', nthread=-1,\n",
    "                                     scale_pos_weight=1, seed=27,\n",
    "                                     reg_alpha=0.00006)\n",
    "gsearch5 = GridSearchCV(estimator=model_xgboost, param_grid=params_test5, scoring='neg_mean_squared_error', cv=5, verbose=1, n_jobs=4)\n",
    "gsearch5.fit(X, y)\n",
    "gsearch5.cv_results_, gsearch5.best_params_, gsearch5.best_score_"
   ]
  },
  {
   "cell_type": "code",
   "execution_count": 34,
   "metadata": {},
   "outputs": [],
   "source": [
    "model_xgboost = XGBRegressor(learning_rate=0.01,n_estimators=1000,\n",
    "                                     max_depth=4,min_child_weight=6,subsample=0.7,\n",
    "                                     gamma=0.5,colsample_bytree=0.7,\n",
    "                                     objective='reg:linear', nthread=-1,\n",
    "                                     scale_pos_weight=1, seed=27,\n",
    "                                     reg_alpha=0.00006)"
   ]
  },
  {
   "cell_type": "code",
   "execution_count": 393,
   "metadata": {},
   "outputs": [
    {
     "name": "stdout",
     "output_type": "stream",
     "text": [
      "xgboost: 3.0164 (0.2116)\n",
      " 2019-04-22 11:16:35.255448\n"
     ]
    }
   ],
   "source": [
    "score = cv_rmse(model_xgboost)\n",
    "print(\"xgboost: {:.4f} ({:.4f})\\n\".format(score.mean(), score.std()), datetime.now(), )"
   ]
  },
  {
   "cell_type": "code",
   "execution_count": 36,
   "metadata": {},
   "outputs": [],
   "source": [
    "stack_gen1 = StackingCVRegressor(regressors=(model_xgboost, model_lgb),\n",
    "                                meta_regressor=model_lgb,\n",
    "                                use_features_in_secondary=True)"
   ]
  },
  {
   "cell_type": "code",
   "execution_count": 37,
   "metadata": {},
   "outputs": [
    {
     "name": "stdout",
     "output_type": "stream",
     "text": [
      "stack_gen: 3.0006 (0.2130)\n",
      " 2019-04-22 15:26:22.085038\n"
     ]
    }
   ],
   "source": [
    "score = np.sqrt(-cross_val_score(stack_gen1, np.array(X), np.array(y), scoring=\"neg_mean_squared_error\", cv=kfolds))\n",
    "print(\"stack_gen: {:.4f} ({:.4f})\\n\".format(score.mean(), score.std()), datetime.now(), )"
   ]
  },
  {
   "cell_type": "code",
   "execution_count": 38,
   "metadata": {},
   "outputs": [
    {
     "name": "stdout",
     "output_type": "stream",
     "text": [
      "START Fit\n",
      "StackingCVRegressor\n",
      "xgboost\n",
      "lightgbm\n"
     ]
    }
   ],
   "source": [
    "print('START Fit')\n",
    "print('StackingCVRegressor')\n",
    "stack_gen_model = stack_gen1.fit(np.array(X), np.array(y))\n",
    "\n",
    "print('xgboost')\n",
    "model_xgb_full_data = model_xgboost.fit(X, y)\n",
    "\n",
    "print('lightgbm')\n",
    "model_lgb_full_data = model_lgb.fit(X, y)"
   ]
  },
  {
   "cell_type": "code",
   "execution_count": 40,
   "metadata": {},
   "outputs": [],
   "source": [
    "y_pred1=stack_gen_model.predict(np.array(X))\n",
    "y_pred2=model_xgb_full_data.predict(X)\n",
    "y_pred3=model_lgb_full_data.predict(X)"
   ]
  },
  {
   "cell_type": "code",
   "execution_count": 42,
   "metadata": {},
   "outputs": [
    {
     "name": "stdout",
     "output_type": "stream",
     "text": [
      "RMSLE score on train data:\n",
      "2.2030010918986807\n"
     ]
    }
   ],
   "source": [
    "print('RMSLE score on train data:')\n",
    "print(rmsle(y,y_pred1))"
   ]
  },
  {
   "cell_type": "code",
   "execution_count": 43,
   "metadata": {},
   "outputs": [
    {
     "name": "stdout",
     "output_type": "stream",
     "text": [
      "RMSLE score on train data:\n",
      "2.355810611286597\n"
     ]
    }
   ],
   "source": [
    "print('RMSLE score on train data:')\n",
    "print(rmsle(y,y_pred2))"
   ]
  },
  {
   "cell_type": "code",
   "execution_count": 44,
   "metadata": {},
   "outputs": [
    {
     "name": "stdout",
     "output_type": "stream",
     "text": [
      "RMSLE score on train data:\n",
      "2.355810611286597\n"
     ]
    }
   ],
   "source": [
    "print('RMSLE score on train data:')\n",
    "print(rmsle(y,y_pred2))"
   ]
  }
 ],
 "metadata": {
  "kernelspec": {
   "display_name": "Python 3",
   "language": "python",
   "name": "python3"
  },
  "language_info": {
   "codemirror_mode": {
    "name": "ipython",
    "version": 3
   },
   "file_extension": ".py",
   "mimetype": "text/x-python",
   "name": "python",
   "nbconvert_exporter": "python",
   "pygments_lexer": "ipython3",
   "version": "3.6.8"
  }
 },
 "nbformat": 4,
 "nbformat_minor": 2
}
